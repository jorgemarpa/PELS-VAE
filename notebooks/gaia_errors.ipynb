{
 "cells": [
  {
   "cell_type": "code",
   "execution_count": 3,
   "metadata": {
    "ExecuteTime": {
     "end_time": "2019-09-20T19:06:18.398274Z",
     "start_time": "2019-09-20T19:06:15.299296Z"
    },
    "execution": {
     "iopub.execute_input": "2020-08-04T22:21:34.562591Z",
     "iopub.status.busy": "2020-08-04T22:21:34.562186Z",
     "iopub.status.idle": "2020-08-04T22:21:41.500969Z",
     "shell.execute_reply": "2020-08-04T22:21:41.499982Z",
     "shell.execute_reply.started": "2020-08-04T22:21:34.562544Z"
    }
   },
   "outputs": [],
   "source": [
    "import os, glob, re, sys\n",
    "import socket\n",
    "import torch\n",
    "import wandb\n",
    "import numpy as np\n",
    "\n",
    "import matplotlib.pyplot as plt\n",
    "import matplotlib.cm as cm\n",
    "import seaborn as sb\n",
    "import pandas as pd\n",
    "import umap\n",
    "from sklearn.manifold import TSNE\n",
    "from tqdm import tqdm_notebook\n",
    "\n",
    "sys.path.append('../')\n",
    "from src.vae_models import *\n",
    "from src.datasets import Astro_lightcurves\n",
    "from src.utils import *\n",
    "\n",
    "import warnings\n",
    "warnings.filterwarnings('ignore')\n",
    "\n",
    "main_path = os.path.dirname(os.getcwd())\n",
    "\n",
    "save_plots = False\n",
    "save_tables = False"
   ]
  },
  {
   "cell_type": "code",
   "execution_count": 4,
   "metadata": {
    "execution": {
     "iopub.execute_input": "2020-08-04T22:21:41.502617Z",
     "iopub.status.busy": "2020-08-04T22:21:41.502399Z",
     "iopub.status.idle": "2020-08-04T22:21:41.576126Z",
     "shell.execute_reply": "2020-08-04T22:21:41.575344Z",
     "shell.execute_reply.started": "2020-08-04T22:21:41.502593Z"
    }
   },
   "outputs": [],
   "source": [
    "ID = 'yp4qdw1r'\n",
    "gpu = False\n",
    "\n",
    "rnd_seed = 13\n",
    "np.random.seed(rnd_seed)\n",
    "torch.manual_seed(rnd_seed)\n",
    "torch.cuda.manual_seed_all(rnd_seed)"
   ]
  },
  {
   "cell_type": "code",
   "execution_count": 5,
   "metadata": {
    "ExecuteTime": {
     "end_time": "2019-09-20T19:06:18.481120Z",
     "start_time": "2019-09-20T19:06:18.402129Z"
    },
    "execution": {
     "iopub.execute_input": "2020-08-04T22:21:41.578846Z",
     "iopub.status.busy": "2020-08-04T22:21:41.578341Z",
     "iopub.status.idle": "2020-08-04T22:21:41.682185Z",
     "shell.execute_reply": "2020-08-04T22:21:41.681289Z",
     "shell.execute_reply.started": "2020-08-04T22:21:41.578794Z"
    }
   },
   "outputs": [],
   "source": [
    "if not os.path.exists('%s/wandb/run--%s/VAE_model_None.pt' % \n",
    "                      (main_path, ID)):\n",
    "    print('Downloading files from Weight & Biases')\n",
    "    \n",
    "    api = wandb.Api()\n",
    "    run = api.run('jorgemarpa/Phy-VAE/%s' % (ID))\n",
    "    run.file('VAE_model_None.pt').download(replace=True, \n",
    "                                           root='%s/wandb/run--%s/' % \n",
    "                                           (main_path, ID))\n",
    "    run.file('config.yaml').download(replace=True, \n",
    "                                     root='%s/wandb/run--%s/' % \n",
    "                                     (main_path, ID))\n",
    "\n",
    "device = torch.device(\"cuda:0\" if torch.cuda.is_available() and gpu else \"cpu\")"
   ]
  },
  {
   "cell_type": "markdown",
   "metadata": {},
   "source": [
    "## Load model variables into VAE model"
   ]
  },
  {
   "cell_type": "code",
   "execution_count": 6,
   "metadata": {
    "ExecuteTime": {
     "end_time": "2019-09-20T21:27:04.387324Z",
     "start_time": "2019-09-20T21:27:03.911070Z"
    },
    "execution": {
     "iopub.execute_input": "2020-08-04T22:21:41.684049Z",
     "iopub.status.busy": "2020-08-04T22:21:41.683788Z",
     "iopub.status.idle": "2020-08-04T22:21:41.873372Z",
     "shell.execute_reply": "2020-08-04T22:21:41.872353Z",
     "shell.execute_reply.started": "2020-08-04T22:21:41.684020Z"
    }
   },
   "outputs": [
    {
     "name": "stdout",
     "output_type": "stream",
     "text": [
      "Loading from... \n",
      " /Users/jorgetil/Astro/PELS-VAE/wandb/run--yp4qdw1r/VAE_model_None.pt\n",
      "Is model in cuda?  False\n"
     ]
    },
    {
     "data": {
      "text/plain": [
       "{'architecture': 'tcn',\n",
       " 'batch_size': 128,\n",
       " 'beta_vae': '0.75',\n",
       " 'classes': 'all',\n",
       " 'data': 'OGLE3',\n",
       " 'dropout': 0.2,\n",
       " 'epochs': 150,\n",
       " 'feed_pp': 'F',\n",
       " 'hidden_size': 48,\n",
       " 'kernel_size': 5,\n",
       " 'label_dim': 8,\n",
       " 'latent_dim': 4,\n",
       " 'latent_mode': 'repeat',\n",
       " 'learning_rate': 0.001,\n",
       " 'learning_rate_scheduler': 'cos',\n",
       " 'n_feats': 3,\n",
       " 'n_train_params': 300945,\n",
       " 'num_layers': 9,\n",
       " 'phys_params': 'PTA',\n",
       " 'physics_dim': 3,\n",
       " 'sequence_lenght': 600,\n",
       " 'transpose': False,\n",
       " 'normed': True,\n",
       " 'folded': True,\n",
       " 'date': '',\n",
       " 'ID': 'yp4qdw1r'}"
      ]
     },
     "execution_count": 6,
     "metadata": {},
     "output_type": "execute_result"
    }
   ],
   "source": [
    "vae, config = load_model_list(ID=ID)\n",
    "config"
   ]
  },
  {
   "cell_type": "code",
   "execution_count": 7,
   "metadata": {
    "ExecuteTime": {
     "end_time": "2019-09-20T21:27:09.579379Z",
     "start_time": "2019-09-20T21:27:05.272292Z"
    },
    "execution": {
     "iopub.execute_input": "2020-08-04T22:21:41.880540Z",
     "iopub.status.busy": "2020-08-04T22:21:41.876935Z",
     "iopub.status.idle": "2020-08-04T22:21:54.066047Z",
     "shell.execute_reply": "2020-08-04T22:21:54.065147Z",
     "shell.execute_reply.started": "2020-08-04T22:21:41.877273Z"
    }
   },
   "outputs": [
    {
     "name": "stdout",
     "output_type": "stream",
     "text": [
      "Loading from:\n",
      " /Users/jorgetil/Google Drive/Colab_Notebooks/data/time_series/real/OGLE3_lcs_I_meta_snr5_augmented_folded_trim600.npy.gz\n",
      "Using physical parameters:  ['Period', 'teff_val', 'abs_Gmag']\n",
      "ECL      8817\n",
      "ELL      8637\n",
      "LPV      8201\n",
      "CEP      6906\n",
      "T2CEP    3734\n",
      "DSCT     3704\n",
      "RRLYR    2962\n",
      "ACEP       70\n",
      "Name: Type, dtype: int64\n",
      "None\n",
      "Total:  43031\n"
     ]
    }
   ],
   "source": [
    "dataset = Astro_lightcurves(survey=config['data'],\n",
    "                            band='I' if config['data'] else 'B',\n",
    "                            use_time=True,\n",
    "                            use_err=True,\n",
    "                            norm=config['normed'],\n",
    "                            folded=config['folded'],\n",
    "                            machine=socket.gethostname(),\n",
    "                            seq_len=config['sequence_lenght'],\n",
    "                            phy_params=config['phys_params'])\n",
    "\n",
    "if config['classes'].split('_')[0] == 'drop':\n",
    "    dataset.drop_class(config['classes'].split('_')[1])\n",
    "elif config['classes'].split('_')[0] == 'only':\n",
    "    dataset.only_class(config['classes'].split('_')[1])\n",
    "print('Using physical parameters: ', dataset.phy_names)\n",
    "dataset.remove_nan()\n",
    "print(dataset.class_value_counts())\n",
    "print('Total: ', len(dataset))\n",
    "num_cls = dataset.labels_onehot.shape[1]\n",
    "\n",
    "train_load, test_load = dataset.get_dataloader(batch_size=config['batch_size'],\n",
    "                                               shuffle=True,\n",
    "                                               test_split=.2,\n",
    "                                               random_seed=rnd_seed)"
   ]
  },
  {
   "cell_type": "code",
   "execution_count": null,
   "metadata": {
    "ExecuteTime": {
     "end_time": "2019-09-20T21:27:10.329593Z",
     "start_time": "2019-09-20T21:27:09.583184Z"
    },
    "execution": {
     "iopub.execute_input": "2020-08-04T22:21:54.068322Z",
     "iopub.status.busy": "2020-08-04T22:21:54.067907Z"
    }
   },
   "outputs": [
    {
     "name": "stdout",
     "output_type": "stream",
     "text": [
      "Evaluating Encoder...\n"
     ]
    },
    {
     "data": {
      "application/vnd.jupyter.widget-view+json": {
       "model_id": "b3627eab2ccc4c7fa0b7507a1d97a6a0",
       "version_major": 2,
       "version_minor": 0
      },
      "text/plain": [
       "HBox(children=(FloatProgress(value=0.0, max=68.0), HTML(value='')))"
      ]
     },
     "metadata": {},
     "output_type": "display_data"
    }
   ],
   "source": [
    "mu, std = evaluate_encoder(vae, test_load, config, \n",
    "                           n_classes=num_cls, force=True)"
   ]
  },
  {
   "cell_type": "code",
   "execution_count": null,
   "metadata": {},
   "outputs": [],
   "source": [
    "test_meta = dataset.meta.iloc[test_load.sampler.indices]\n",
    "test_lcs = dataset.lcs[test_load.sampler.indices]\n",
    "mu.shape, std.shape, test_meta.shape, test_lcs.shape"
   ]
  },
  {
   "cell_type": "markdown",
   "metadata": {},
   "source": [
    "# Plot LC reconstruction"
   ]
  },
  {
   "cell_type": "markdown",
   "metadata": {},
   "source": [
    "# Joint distributions of latent variables"
   ]
  },
  {
   "cell_type": "code",
   "execution_count": null,
   "metadata": {},
   "outputs": [],
   "source": [
    "g = sb.PairGrid(mu, \n",
    "                hue='class', hue_order=sorted(set(mu.loc[:,'class'].values)),\n",
    "               corner=False, despine=True, palette='Dark2_r')\n",
    "g = g.map_diag(plt.hist, histtype='step', lw=1.5)\n",
    "g = g.map_offdiag(plt.scatter, marker='.', s=20, alpha=.5, edgecolors='none')\n",
    "for i, j in zip(*np.triu_indices_from(g.axes, 1)):\n",
    "    g.axes[i, j].set_visible(False)\n",
    "g = g.add_legend(loc='upper center', fontsize=20, title='', \n",
    "                 markerscale=4, ncol=2)    \n",
    "for ax in g.axes.flat:\n",
    "    # This only works for the left ylabels\n",
    "    ax.set_ylabel(ax.get_ylabel(), fontsize='x-large')\n",
    "    ax.set_xlabel(ax.get_xlabel(), fontsize='x-large')\n",
    "\n",
    "if save_plots:\n",
    "    plt.savefig('%s/imgs/z_pairplot_%s.pdf' % (path,ID), \n",
    "            format='pdf', bbox_inches='tight')\n",
    "    \n",
    "plt.show()"
   ]
  },
  {
   "cell_type": "markdown",
   "metadata": {},
   "source": [
    "### tSNE projection to 2D"
   ]
  },
  {
   "cell_type": "code",
   "execution_count": null,
   "metadata": {
    "ExecuteTime": {
     "end_time": "2019-09-20T21:29:10.058144Z",
     "start_time": "2019-09-20T21:27:17.136262Z"
    }
   },
   "outputs": [],
   "source": [
    "mu_to_tsne = mu.copy()\n",
    "meta_to_tsne = test_meta.copy()\n",
    "print(meta_to_tsne.Type.value_counts())\n",
    "\n",
    "#for perplex in [2,5,8,10,15,20,25,30,40,50,100]:\n",
    "tsne = TSNE(n_components=2, perplexity=40, \n",
    "            random_state=10, verbose=0)\n",
    "mu_embed = tsne.fit_transform(mu_to_tsne.iloc[:,:-1].values)\n",
    "print('Embeding shape: ', mu_embed.shape)"
   ]
  },
  {
   "cell_type": "code",
   "execution_count": null,
   "metadata": {},
   "outputs": [],
   "source": [
    "meta_to_tsne.info()"
   ]
  },
  {
   "cell_type": "code",
   "execution_count": null,
   "metadata": {
    "ExecuteTime": {
     "end_time": "2019-09-20T21:29:13.866972Z",
     "start_time": "2019-09-20T21:29:10.063304Z"
    }
   },
   "outputs": [],
   "source": [
    "scatter_hue(mu_embed[:,0], mu_embed[:,1], \n",
    "            mu_to_tsne.loc[:,'class'].values,\n",
    "            disc=True)\n",
    "scatter_hue(mu_embed[:,0], mu_embed[:,1], \n",
    "            np.log10(meta_to_tsne.loc[:,'teff_val'].values),\n",
    "            disc=False, c_label=r'$T_{eff}$')\n",
    "scatter_hue(mu_embed[:,0], mu_embed[:,1], \n",
    "            meta_to_tsne.loc[:,'bp_rp'].values,\n",
    "            disc=False, c_label='bp-rp')\n",
    "scatter_hue(mu_embed[:,0], mu_embed[:,1], \n",
    "            meta_to_tsne.loc[:,'abs_Gmag'].values,\n",
    "            disc=False, c_label=r'$M_g$')\n",
    "scatter_hue(mu_embed[:,0], mu_embed[:,1], \n",
    "            np.log10(meta_to_tsne.loc[:,'Period'].values),\n",
    "            disc=False, c_label='log(P)')\n",
    "scatter_hue(mu_embed[:,0], mu_embed[:,1], \n",
    "            meta_to_tsne.loc[:,'[Fe/H]_J95'].values,\n",
    "            disc=False, c_label='[Fe/H]_J95')"
   ]
  },
  {
   "cell_type": "markdown",
   "metadata": {},
   "source": [
    "## UMAP projection"
   ]
  },
  {
   "cell_type": "raw",
   "metadata": {},
   "source": [
    "metrics = ['euclidean',\n",
    "'manhattan',\n",
    "'chebyshev',\n",
    "'minkowski',\n",
    "'seuclidean',\n",
    "'cosine',\n",
    "'correlation',\n",
    "'hamming',]"
   ]
  },
  {
   "cell_type": "code",
   "execution_count": null,
   "metadata": {},
   "outputs": [],
   "source": [
    "umapper = umap.UMAP(n_neighbors=100, min_dist=0.05, \n",
    "                    n_components=2, metric='euclidean')\n",
    "embedding = umapper.fit_transform(mu_to_tsne.iloc[:,:-1].values)"
   ]
  },
  {
   "cell_type": "code",
   "execution_count": null,
   "metadata": {},
   "outputs": [],
   "source": [
    "scatter_hue(embedding[:,0], embedding[:,1], \n",
    "            meta_to_tsne.loc[:,'Type'].values,\n",
    "            disc=True)\n",
    "scatter_hue(embedding[:,0], embedding[:,1], \n",
    "            meta_to_tsne.loc[:,'bp_rp'].values,\n",
    "            disc=False, c_label='bp-rp')\n",
    "scatter_hue(embedding[:,0], embedding[:,1], \n",
    "            meta_to_tsne.loc[:,'abs_Gmag'].values,\n",
    "            disc=False, c_label=r'$M_g$')\n",
    "scatter_hue(embedding[:,0], embedding[:,1], \n",
    "            np.log10(meta_to_tsne.loc[:,'Period'].values),\n",
    "            disc=False, c_label='log(P)')\n",
    "scatter_hue(embedding[:,0], embedding[:,1], \n",
    "            meta_to_tsne.loc[:,'[Fe/H]_J95'].values,\n",
    "            disc=False, c_label='[Fe/H]_J95')"
   ]
  },
  {
   "cell_type": "markdown",
   "metadata": {},
   "source": [
    "# Evaluate VAE with dT"
   ]
  },
  {
   "cell_type": "code",
   "execution_count": null,
   "metadata": {},
   "outputs": [],
   "source": [
    "N_resamp = 5\n",
    "new_onehot = torch.from_numpy(dataset[test_load.sampler.indices][-2])\n",
    "new_lcs_t = torch.from_numpy(test_lcs)\n",
    "new_latent = []\n",
    "\n",
    "for k in range(N_resamp):\n",
    "    new_meta = test_meta.copy()\n",
    "    new_meta.teff_val = np.random.normal(loc=test_meta.teff_val, \n",
    "                                         scale=test_meta.teff_e)\n",
    "    new_meta_pp = torch.from_numpy(dataset.mm_scaler.transform(new_meta.loc[:, dataset.phy_aux].values.astype(np.float32)))\n",
    "    print(new_lcs_t.shape, new_meta_pp.shape, new_onehot.shape)\n",
    "    \n",
    "    if config['label_dim'] > 0 and config['physics_dim'] > 0:\n",
    "        mu_, logvar_ = vae.encoder(new_lcs_t[:100], label=new_onehot[:100], phy=new_meta_pp[:100])\n",
    "    elif config['label_dim'] > 0 and config['physics_dim'] == 0:\n",
    "        mu_, logvar_ = vae.encoder(new_lcs_t, label=new_onehot)\n",
    "    elif config['label_dim'] == 0:\n",
    "        mu_, logvar_ = vae.encoder(new_lcs_t)\n",
    "    new_mu = mu_.numpy()\n",
    "    new_std = np.exp(0.5 * np.array(logvar_.numpy()))\n",
    "    new_latent.append([new_mu, new_std])\n",
    "    \n",
    "    break"
   ]
  },
  {
   "cell_type": "code",
   "execution_count": null,
   "metadata": {},
   "outputs": [],
   "source": [
    "new_latent"
   ]
  },
  {
   "cell_type": "code",
   "execution_count": null,
   "metadata": {},
   "outputs": [],
   "source": []
  }
 ],
 "metadata": {
  "kernelspec": {
   "display_name": "Pytorch",
   "language": "python",
   "name": "torch"
  },
  "language_info": {
   "codemirror_mode": {
    "name": "ipython",
    "version": 3
   },
   "file_extension": ".py",
   "mimetype": "text/x-python",
   "name": "python",
   "nbconvert_exporter": "python",
   "pygments_lexer": "ipython3",
   "version": "3.8.2"
  }
 },
 "nbformat": 4,
 "nbformat_minor": 4
}
