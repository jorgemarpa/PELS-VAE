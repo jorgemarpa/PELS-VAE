{
 "cells": [
  {
   "cell_type": "code",
   "execution_count": 1,
   "metadata": {
    "ExecuteTime": {
     "end_time": "2019-09-20T19:06:18.398274Z",
     "start_time": "2019-09-20T19:06:15.299296Z"
    }
   },
   "outputs": [
    {
     "data": {
      "text/html": [
       "\n",
       "    <div class=\"bk-root\">\n",
       "        <a href=\"https://bokeh.pydata.org\" target=\"_blank\" class=\"bk-logo bk-logo-small bk-logo-notebook\"></a>\n",
       "        <span id=\"1001\">Loading BokehJS ...</span>\n",
       "    </div>"
      ]
     },
     "metadata": {},
     "output_type": "display_data"
    },
    {
     "data": {
      "application/javascript": [
       "\n",
       "(function(root) {\n",
       "  function now() {\n",
       "    return new Date();\n",
       "  }\n",
       "\n",
       "  var force = true;\n",
       "\n",
       "  if (typeof root._bokeh_onload_callbacks === \"undefined\" || force === true) {\n",
       "    root._bokeh_onload_callbacks = [];\n",
       "    root._bokeh_is_loading = undefined;\n",
       "  }\n",
       "\n",
       "  var JS_MIME_TYPE = 'application/javascript';\n",
       "  var HTML_MIME_TYPE = 'text/html';\n",
       "  var EXEC_MIME_TYPE = 'application/vnd.bokehjs_exec.v0+json';\n",
       "  var CLASS_NAME = 'output_bokeh rendered_html';\n",
       "\n",
       "  /**\n",
       "   * Render data to the DOM node\n",
       "   */\n",
       "  function render(props, node) {\n",
       "    var script = document.createElement(\"script\");\n",
       "    node.appendChild(script);\n",
       "  }\n",
       "\n",
       "  /**\n",
       "   * Handle when an output is cleared or removed\n",
       "   */\n",
       "  function handleClearOutput(event, handle) {\n",
       "    var cell = handle.cell;\n",
       "\n",
       "    var id = cell.output_area._bokeh_element_id;\n",
       "    var server_id = cell.output_area._bokeh_server_id;\n",
       "    // Clean up Bokeh references\n",
       "    if (id != null && id in Bokeh.index) {\n",
       "      Bokeh.index[id].model.document.clear();\n",
       "      delete Bokeh.index[id];\n",
       "    }\n",
       "\n",
       "    if (server_id !== undefined) {\n",
       "      // Clean up Bokeh references\n",
       "      var cmd = \"from bokeh.io.state import curstate; print(curstate().uuid_to_server['\" + server_id + \"'].get_sessions()[0].document.roots[0]._id)\";\n",
       "      cell.notebook.kernel.execute(cmd, {\n",
       "        iopub: {\n",
       "          output: function(msg) {\n",
       "            var id = msg.content.text.trim();\n",
       "            if (id in Bokeh.index) {\n",
       "              Bokeh.index[id].model.document.clear();\n",
       "              delete Bokeh.index[id];\n",
       "            }\n",
       "          }\n",
       "        }\n",
       "      });\n",
       "      // Destroy server and session\n",
       "      var cmd = \"import bokeh.io.notebook as ion; ion.destroy_server('\" + server_id + \"')\";\n",
       "      cell.notebook.kernel.execute(cmd);\n",
       "    }\n",
       "  }\n",
       "\n",
       "  /**\n",
       "   * Handle when a new output is added\n",
       "   */\n",
       "  function handleAddOutput(event, handle) {\n",
       "    var output_area = handle.output_area;\n",
       "    var output = handle.output;\n",
       "\n",
       "    // limit handleAddOutput to display_data with EXEC_MIME_TYPE content only\n",
       "    if ((output.output_type != \"display_data\") || (!output.data.hasOwnProperty(EXEC_MIME_TYPE))) {\n",
       "      return\n",
       "    }\n",
       "\n",
       "    var toinsert = output_area.element.find(\".\" + CLASS_NAME.split(' ')[0]);\n",
       "\n",
       "    if (output.metadata[EXEC_MIME_TYPE][\"id\"] !== undefined) {\n",
       "      toinsert[toinsert.length - 1].firstChild.textContent = output.data[JS_MIME_TYPE];\n",
       "      // store reference to embed id on output_area\n",
       "      output_area._bokeh_element_id = output.metadata[EXEC_MIME_TYPE][\"id\"];\n",
       "    }\n",
       "    if (output.metadata[EXEC_MIME_TYPE][\"server_id\"] !== undefined) {\n",
       "      var bk_div = document.createElement(\"div\");\n",
       "      bk_div.innerHTML = output.data[HTML_MIME_TYPE];\n",
       "      var script_attrs = bk_div.children[0].attributes;\n",
       "      for (var i = 0; i < script_attrs.length; i++) {\n",
       "        toinsert[toinsert.length - 1].firstChild.setAttribute(script_attrs[i].name, script_attrs[i].value);\n",
       "      }\n",
       "      // store reference to server id on output_area\n",
       "      output_area._bokeh_server_id = output.metadata[EXEC_MIME_TYPE][\"server_id\"];\n",
       "    }\n",
       "  }\n",
       "\n",
       "  function register_renderer(events, OutputArea) {\n",
       "\n",
       "    function append_mime(data, metadata, element) {\n",
       "      // create a DOM node to render to\n",
       "      var toinsert = this.create_output_subarea(\n",
       "        metadata,\n",
       "        CLASS_NAME,\n",
       "        EXEC_MIME_TYPE\n",
       "      );\n",
       "      this.keyboard_manager.register_events(toinsert);\n",
       "      // Render to node\n",
       "      var props = {data: data, metadata: metadata[EXEC_MIME_TYPE]};\n",
       "      render(props, toinsert[toinsert.length - 1]);\n",
       "      element.append(toinsert);\n",
       "      return toinsert\n",
       "    }\n",
       "\n",
       "    /* Handle when an output is cleared or removed */\n",
       "    events.on('clear_output.CodeCell', handleClearOutput);\n",
       "    events.on('delete.Cell', handleClearOutput);\n",
       "\n",
       "    /* Handle when a new output is added */\n",
       "    events.on('output_added.OutputArea', handleAddOutput);\n",
       "\n",
       "    /**\n",
       "     * Register the mime type and append_mime function with output_area\n",
       "     */\n",
       "    OutputArea.prototype.register_mime_type(EXEC_MIME_TYPE, append_mime, {\n",
       "      /* Is output safe? */\n",
       "      safe: true,\n",
       "      /* Index of renderer in `output_area.display_order` */\n",
       "      index: 0\n",
       "    });\n",
       "  }\n",
       "\n",
       "  // register the mime type if in Jupyter Notebook environment and previously unregistered\n",
       "  if (root.Jupyter !== undefined) {\n",
       "    var events = require('base/js/events');\n",
       "    var OutputArea = require('notebook/js/outputarea').OutputArea;\n",
       "\n",
       "    if (OutputArea.prototype.mime_types().indexOf(EXEC_MIME_TYPE) == -1) {\n",
       "      register_renderer(events, OutputArea);\n",
       "    }\n",
       "  }\n",
       "\n",
       "  \n",
       "  if (typeof (root._bokeh_timeout) === \"undefined\" || force === true) {\n",
       "    root._bokeh_timeout = Date.now() + 5000;\n",
       "    root._bokeh_failed_load = false;\n",
       "  }\n",
       "\n",
       "  var NB_LOAD_WARNING = {'data': {'text/html':\n",
       "     \"<div style='background-color: #fdd'>\\n\"+\n",
       "     \"<p>\\n\"+\n",
       "     \"BokehJS does not appear to have successfully loaded. If loading BokehJS from CDN, this \\n\"+\n",
       "     \"may be due to a slow or bad network connection. Possible fixes:\\n\"+\n",
       "     \"</p>\\n\"+\n",
       "     \"<ul>\\n\"+\n",
       "     \"<li>re-rerun `output_notebook()` to attempt to load from CDN again, or</li>\\n\"+\n",
       "     \"<li>use INLINE resources instead, as so:</li>\\n\"+\n",
       "     \"</ul>\\n\"+\n",
       "     \"<code>\\n\"+\n",
       "     \"from bokeh.resources import INLINE\\n\"+\n",
       "     \"output_notebook(resources=INLINE)\\n\"+\n",
       "     \"</code>\\n\"+\n",
       "     \"</div>\"}};\n",
       "\n",
       "  function display_loaded() {\n",
       "    var el = document.getElementById(\"1001\");\n",
       "    if (el != null) {\n",
       "      el.textContent = \"BokehJS is loading...\";\n",
       "    }\n",
       "    if (root.Bokeh !== undefined) {\n",
       "      if (el != null) {\n",
       "        el.textContent = \"BokehJS \" + root.Bokeh.version + \" successfully loaded.\";\n",
       "      }\n",
       "    } else if (Date.now() < root._bokeh_timeout) {\n",
       "      setTimeout(display_loaded, 100)\n",
       "    }\n",
       "  }\n",
       "\n",
       "\n",
       "  function run_callbacks() {\n",
       "    try {\n",
       "      root._bokeh_onload_callbacks.forEach(function(callback) {\n",
       "        if (callback != null)\n",
       "          callback();\n",
       "      });\n",
       "    } finally {\n",
       "      delete root._bokeh_onload_callbacks\n",
       "    }\n",
       "    console.debug(\"Bokeh: all callbacks have finished\");\n",
       "  }\n",
       "\n",
       "  function load_libs(css_urls, js_urls, callback) {\n",
       "    if (css_urls == null) css_urls = [];\n",
       "    if (js_urls == null) js_urls = [];\n",
       "\n",
       "    root._bokeh_onload_callbacks.push(callback);\n",
       "    if (root._bokeh_is_loading > 0) {\n",
       "      console.debug(\"Bokeh: BokehJS is being loaded, scheduling callback at\", now());\n",
       "      return null;\n",
       "    }\n",
       "    if (js_urls == null || js_urls.length === 0) {\n",
       "      run_callbacks();\n",
       "      return null;\n",
       "    }\n",
       "    console.debug(\"Bokeh: BokehJS not loaded, scheduling load and callback at\", now());\n",
       "    root._bokeh_is_loading = css_urls.length + js_urls.length;\n",
       "\n",
       "    function on_load() {\n",
       "      root._bokeh_is_loading--;\n",
       "      if (root._bokeh_is_loading === 0) {\n",
       "        console.debug(\"Bokeh: all BokehJS libraries/stylesheets loaded\");\n",
       "        run_callbacks()\n",
       "      }\n",
       "    }\n",
       "\n",
       "    function on_error() {\n",
       "      console.error(\"failed to load \" + url);\n",
       "    }\n",
       "\n",
       "    for (var i = 0; i < css_urls.length; i++) {\n",
       "      var url = css_urls[i];\n",
       "      const element = document.createElement(\"link\");\n",
       "      element.onload = on_load;\n",
       "      element.onerror = on_error;\n",
       "      element.rel = \"stylesheet\";\n",
       "      element.type = \"text/css\";\n",
       "      element.href = url;\n",
       "      console.debug(\"Bokeh: injecting link tag for BokehJS stylesheet: \", url);\n",
       "      document.body.appendChild(element);\n",
       "    }\n",
       "\n",
       "    for (var i = 0; i < js_urls.length; i++) {\n",
       "      var url = js_urls[i];\n",
       "      var element = document.createElement('script');\n",
       "      element.onload = on_load;\n",
       "      element.onerror = on_error;\n",
       "      element.async = false;\n",
       "      element.src = url;\n",
       "      console.debug(\"Bokeh: injecting script tag for BokehJS library: \", url);\n",
       "      document.head.appendChild(element);\n",
       "    }\n",
       "  };var element = document.getElementById(\"1001\");\n",
       "  if (element == null) {\n",
       "    console.error(\"Bokeh: ERROR: autoload.js configured with elementid '1001' but no matching script tag was found. \")\n",
       "    return false;\n",
       "  }\n",
       "\n",
       "  function inject_raw_css(css) {\n",
       "    const element = document.createElement(\"style\");\n",
       "    element.appendChild(document.createTextNode(css));\n",
       "    document.body.appendChild(element);\n",
       "  }\n",
       "\n",
       "  var js_urls = [\"https://cdn.pydata.org/bokeh/release/bokeh-1.3.4.min.js\", \"https://cdn.pydata.org/bokeh/release/bokeh-widgets-1.3.4.min.js\", \"https://cdn.pydata.org/bokeh/release/bokeh-tables-1.3.4.min.js\", \"https://cdn.pydata.org/bokeh/release/bokeh-gl-1.3.4.min.js\"];\n",
       "  var css_urls = [];\n",
       "\n",
       "  var inline_js = [\n",
       "    function(Bokeh) {\n",
       "      Bokeh.set_log_level(\"info\");\n",
       "    },\n",
       "    \n",
       "    function(Bokeh) {\n",
       "      \n",
       "    },\n",
       "    function(Bokeh) {} // ensure no trailing comma for IE\n",
       "  ];\n",
       "\n",
       "  function run_inline_js() {\n",
       "    \n",
       "    if ((root.Bokeh !== undefined) || (force === true)) {\n",
       "      for (var i = 0; i < inline_js.length; i++) {\n",
       "        inline_js[i].call(root, root.Bokeh);\n",
       "      }if (force === true) {\n",
       "        display_loaded();\n",
       "      }} else if (Date.now() < root._bokeh_timeout) {\n",
       "      setTimeout(run_inline_js, 100);\n",
       "    } else if (!root._bokeh_failed_load) {\n",
       "      console.log(\"Bokeh: BokehJS failed to load within specified timeout.\");\n",
       "      root._bokeh_failed_load = true;\n",
       "    } else if (force !== true) {\n",
       "      var cell = $(document.getElementById(\"1001\")).parents('.cell').data().cell;\n",
       "      cell.output_area.append_execute_result(NB_LOAD_WARNING)\n",
       "    }\n",
       "\n",
       "  }\n",
       "\n",
       "  if (root._bokeh_is_loading === 0) {\n",
       "    console.debug(\"Bokeh: BokehJS loaded, going straight to plotting\");\n",
       "    run_inline_js();\n",
       "  } else {\n",
       "    load_libs(css_urls, js_urls, function() {\n",
       "      console.debug(\"Bokeh: BokehJS plotting callback run at\", now());\n",
       "      run_inline_js();\n",
       "    });\n",
       "  }\n",
       "}(window));"
      ],
      "application/vnd.bokehjs_load.v0+json": "\n(function(root) {\n  function now() {\n    return new Date();\n  }\n\n  var force = true;\n\n  if (typeof root._bokeh_onload_callbacks === \"undefined\" || force === true) {\n    root._bokeh_onload_callbacks = [];\n    root._bokeh_is_loading = undefined;\n  }\n\n  \n\n  \n  if (typeof (root._bokeh_timeout) === \"undefined\" || force === true) {\n    root._bokeh_timeout = Date.now() + 5000;\n    root._bokeh_failed_load = false;\n  }\n\n  var NB_LOAD_WARNING = {'data': {'text/html':\n     \"<div style='background-color: #fdd'>\\n\"+\n     \"<p>\\n\"+\n     \"BokehJS does not appear to have successfully loaded. If loading BokehJS from CDN, this \\n\"+\n     \"may be due to a slow or bad network connection. Possible fixes:\\n\"+\n     \"</p>\\n\"+\n     \"<ul>\\n\"+\n     \"<li>re-rerun `output_notebook()` to attempt to load from CDN again, or</li>\\n\"+\n     \"<li>use INLINE resources instead, as so:</li>\\n\"+\n     \"</ul>\\n\"+\n     \"<code>\\n\"+\n     \"from bokeh.resources import INLINE\\n\"+\n     \"output_notebook(resources=INLINE)\\n\"+\n     \"</code>\\n\"+\n     \"</div>\"}};\n\n  function display_loaded() {\n    var el = document.getElementById(\"1001\");\n    if (el != null) {\n      el.textContent = \"BokehJS is loading...\";\n    }\n    if (root.Bokeh !== undefined) {\n      if (el != null) {\n        el.textContent = \"BokehJS \" + root.Bokeh.version + \" successfully loaded.\";\n      }\n    } else if (Date.now() < root._bokeh_timeout) {\n      setTimeout(display_loaded, 100)\n    }\n  }\n\n\n  function run_callbacks() {\n    try {\n      root._bokeh_onload_callbacks.forEach(function(callback) {\n        if (callback != null)\n          callback();\n      });\n    } finally {\n      delete root._bokeh_onload_callbacks\n    }\n    console.debug(\"Bokeh: all callbacks have finished\");\n  }\n\n  function load_libs(css_urls, js_urls, callback) {\n    if (css_urls == null) css_urls = [];\n    if (js_urls == null) js_urls = [];\n\n    root._bokeh_onload_callbacks.push(callback);\n    if (root._bokeh_is_loading > 0) {\n      console.debug(\"Bokeh: BokehJS is being loaded, scheduling callback at\", now());\n      return null;\n    }\n    if (js_urls == null || js_urls.length === 0) {\n      run_callbacks();\n      return null;\n    }\n    console.debug(\"Bokeh: BokehJS not loaded, scheduling load and callback at\", now());\n    root._bokeh_is_loading = css_urls.length + js_urls.length;\n\n    function on_load() {\n      root._bokeh_is_loading--;\n      if (root._bokeh_is_loading === 0) {\n        console.debug(\"Bokeh: all BokehJS libraries/stylesheets loaded\");\n        run_callbacks()\n      }\n    }\n\n    function on_error() {\n      console.error(\"failed to load \" + url);\n    }\n\n    for (var i = 0; i < css_urls.length; i++) {\n      var url = css_urls[i];\n      const element = document.createElement(\"link\");\n      element.onload = on_load;\n      element.onerror = on_error;\n      element.rel = \"stylesheet\";\n      element.type = \"text/css\";\n      element.href = url;\n      console.debug(\"Bokeh: injecting link tag for BokehJS stylesheet: \", url);\n      document.body.appendChild(element);\n    }\n\n    for (var i = 0; i < js_urls.length; i++) {\n      var url = js_urls[i];\n      var element = document.createElement('script');\n      element.onload = on_load;\n      element.onerror = on_error;\n      element.async = false;\n      element.src = url;\n      console.debug(\"Bokeh: injecting script tag for BokehJS library: \", url);\n      document.head.appendChild(element);\n    }\n  };var element = document.getElementById(\"1001\");\n  if (element == null) {\n    console.error(\"Bokeh: ERROR: autoload.js configured with elementid '1001' but no matching script tag was found. \")\n    return false;\n  }\n\n  function inject_raw_css(css) {\n    const element = document.createElement(\"style\");\n    element.appendChild(document.createTextNode(css));\n    document.body.appendChild(element);\n  }\n\n  var js_urls = [\"https://cdn.pydata.org/bokeh/release/bokeh-1.3.4.min.js\", \"https://cdn.pydata.org/bokeh/release/bokeh-widgets-1.3.4.min.js\", \"https://cdn.pydata.org/bokeh/release/bokeh-tables-1.3.4.min.js\", \"https://cdn.pydata.org/bokeh/release/bokeh-gl-1.3.4.min.js\"];\n  var css_urls = [];\n\n  var inline_js = [\n    function(Bokeh) {\n      Bokeh.set_log_level(\"info\");\n    },\n    \n    function(Bokeh) {\n      \n    },\n    function(Bokeh) {} // ensure no trailing comma for IE\n  ];\n\n  function run_inline_js() {\n    \n    if ((root.Bokeh !== undefined) || (force === true)) {\n      for (var i = 0; i < inline_js.length; i++) {\n        inline_js[i].call(root, root.Bokeh);\n      }if (force === true) {\n        display_loaded();\n      }} else if (Date.now() < root._bokeh_timeout) {\n      setTimeout(run_inline_js, 100);\n    } else if (!root._bokeh_failed_load) {\n      console.log(\"Bokeh: BokehJS failed to load within specified timeout.\");\n      root._bokeh_failed_load = true;\n    } else if (force !== true) {\n      var cell = $(document.getElementById(\"1001\")).parents('.cell').data().cell;\n      cell.output_area.append_execute_result(NB_LOAD_WARNING)\n    }\n\n  }\n\n  if (root._bokeh_is_loading === 0) {\n    console.debug(\"Bokeh: BokehJS loaded, going straight to plotting\");\n    run_inline_js();\n  } else {\n    load_libs(css_urls, js_urls, function() {\n      console.debug(\"Bokeh: BokehJS plotting callback run at\", now());\n      run_inline_js();\n    });\n  }\n}(window));"
     },
     "metadata": {},
     "output_type": "display_data"
    }
   ],
   "source": [
    "import os, glob, re, sys\n",
    "import socket\n",
    "import datetime\n",
    "import torch\n",
    "import yaml\n",
    "import numpy as np\n",
    "\n",
    "import matplotlib.pyplot as plt\n",
    "import matplotlib.cm as cm\n",
    "import seaborn as sb\n",
    "import pandas as pd\n",
    "import umap\n",
    "from sklearn.manifold import TSNE\n",
    "from tqdm import tqdm_notebook\n",
    "from collections import OrderedDict\n",
    "\n",
    "sys.path.append('../')\n",
    "from src.vae_models_test import *\n",
    "from src.datasets import Astro_lightcurves\n",
    "from src.utils import plot_wall_time_series\n",
    "\n",
    "from ipywidgets import interact, widgets\n",
    "from bokeh.io import push_notebook, show, output_notebook\n",
    "from bokeh.plotting import figure\n",
    "from bokeh.transform import linear_cmap\n",
    "\n",
    "import wandb\n",
    "\n",
    "output_notebook()\n",
    "%matplotlib inline"
   ]
  },
  {
   "cell_type": "code",
   "execution_count": 2,
   "metadata": {},
   "outputs": [],
   "source": [
    "ID = 'b68z1hwo'\n",
    "gpu = False"
   ]
  },
  {
   "cell_type": "code",
   "execution_count": 3,
   "metadata": {
    "ExecuteTime": {
     "end_time": "2019-09-20T19:06:18.481120Z",
     "start_time": "2019-09-20T19:06:18.402129Z"
    }
   },
   "outputs": [
    {
     "name": "stdout",
     "output_type": "stream",
     "text": [
      "cpu\n"
     ]
    }
   ],
   "source": [
    "if socket.gethostname() == 'exalearn':\n",
    "    path = '/home/jorgemarpa/Astro/AstroLCs_DeepGen'\n",
    "else:\n",
    "    path = '/Users/jorgetil/Astro/AstroLCs_DeepGen'\n",
    "    api = wandb.Api()\n",
    "    run = api.run('jorgemarpa/Phy-VAE/%s' % (ID))\n",
    "    run.file('VAE_model_None.pt').download(replace=True, \n",
    "                                           root='%s/wandb/run--%s/' % (path, ID))\n",
    "    run.file('config.yaml').download(replace=True, \n",
    "                                     root='%s/wandb/run--%s/' % (path, ID))\n",
    "\n",
    "device = torch.device(\"cuda:0\" if torch.cuda.is_available() and gpu else \"cpu\")\n",
    "if device.type == 'cuda':\n",
    "    print('%.2f GB' % (torch.cuda.memory_allocated(device) / 1073741824))\n",
    "    torch.cuda.empty_cache()\n",
    "print(device)"
   ]
  },
  {
   "cell_type": "markdown",
   "metadata": {},
   "source": [
    "## Load model variables into VAE model"
   ]
  },
  {
   "cell_type": "code",
   "execution_count": 5,
   "metadata": {
    "ExecuteTime": {
     "end_time": "2019-09-20T21:27:04.387324Z",
     "start_time": "2019-09-20T21:27:03.911070Z"
    }
   },
   "outputs": [
    {
     "name": "stdout",
     "output_type": "stream",
     "text": [
      "Loading from... \n",
      " /Users/jorgetil/Astro/AstroLCs_DeepGen/wandb/run--b68z1hwo/VAE_model_None.pt\n",
      "Is model in cuda?  False\n"
     ]
    },
    {
     "data": {
      "text/plain": [
       "{'architecture': 'tcn',\n",
       " 'batch_size': 128,\n",
       " 'beta_vae': '0.75',\n",
       " 'classes': 'all',\n",
       " 'data': 'OGLE3',\n",
       " 'dropout': 0.2,\n",
       " 'epochs': 150,\n",
       " 'feed_pp': 'F',\n",
       " 'hidden_size': 48,\n",
       " 'kernel_size': 5,\n",
       " 'label_dim': 8,\n",
       " 'latent_dim': 4,\n",
       " 'latent_mode': 'repeat',\n",
       " 'learning_rate': 0.001,\n",
       " 'learning_rate_scheduler': 'cos',\n",
       " 'n_feats': 3,\n",
       " 'n_train_params': 300897,\n",
       " 'num_layers': 9,\n",
       " 'phys_params': '',\n",
       " 'physics_dim': 0,\n",
       " 'sequence_lenght': 600,\n",
       " 'transpose': False,\n",
       " 'normed': True,\n",
       " 'folded': True,\n",
       " 'date': ''}"
      ]
     },
     "execution_count": 5,
     "metadata": {},
     "output_type": "execute_result"
    }
   ],
   "source": [
    "vae, config = load_model_list(ID=ID)\n",
    "config"
   ]
  },
  {
   "cell_type": "code",
   "execution_count": 11,
   "metadata": {
    "ExecuteTime": {
     "end_time": "2019-09-20T21:27:09.579379Z",
     "start_time": "2019-09-20T21:27:05.272292Z"
    }
   },
   "outputs": [
    {
     "name": "stdout",
     "output_type": "stream",
     "text": [
      "Loading from:\n",
      " /Users/jorgetil/Google Drive/Colab_Notebooks/data/time_series/real/OGLE3_lcs_I_meta_snr5_augmented_folded_trim600.npy.gz\n",
      "Using physical parameters:  []\n",
      "ELL      10365\n",
      "RRLYR    10169\n",
      "CEP      10045\n",
      "LPV      10044\n",
      "ECL      10000\n",
      "DSCT      5090\n",
      "T2CEP     5047\n",
      "ACEP      5000\n",
      "Name: Type, dtype: int64\n",
      "None\n",
      "Total:  65760\n"
     ]
    }
   ],
   "source": [
    "dataset = Astro_lightcurves(survey=config['data'],\n",
    "                            band='I' if config['data'] else 'B',\n",
    "                            use_time=True,\n",
    "                            use_err=True,\n",
    "                            norm=config['normed'],\n",
    "                            folded=config['folded'],\n",
    "                            machine=socket.gethostname(),\n",
    "                            seq_len=config['sequence_lenght'],\n",
    "                            phy_params=config['phys_params'])\n",
    "\n",
    "if config['classes'].split('_')[0] == 'drop':\n",
    "    dataset.drop_class(config['classes'].split('_')[1])\n",
    "elif config['classes'].split('_')[0] == 'only':\n",
    "    dataset.only_class(config['classes'].split('_')[1])\n",
    "print('Using physical parameters: ', dataset.phy_names)\n",
    "dataset.remove_nan()\n",
    "print(dataset.class_value_counts())\n",
    "print('Total: ', len(dataset))\n",
    "num_cls = dataset.labels_onehot.shape[1]\n",
    "\n",
    "dataloader, _ = dataset.get_dataloader(batch_size=100, \n",
    "                                       test_split=0., shuffle=False)"
   ]
  },
  {
   "cell_type": "markdown",
   "metadata": {},
   "source": [
    "# Bokeh interactive"
   ]
  },
  {
   "cell_type": "markdown",
   "metadata": {},
   "source": [
    "## Scatter"
   ]
  },
  {
   "cell_type": "raw",
   "metadata": {
    "ExecuteTime": {
     "end_time": "2019-09-18T21:04:26.210267Z",
     "start_time": "2019-09-18T21:04:25.980608Z"
    }
   },
   "source": [
    "s = figure(title=\"Latent Space\", plot_height=600, \n",
    "           plot_width=600,\n",
    "           background_fill_color='#efefef',\n",
    "           x_axis_label='latent dim 1',\n",
    "           y_axis_label='latent dim 2')\n",
    "s.circle(mu.loc[:,0].values, mu.loc[:,1].values,line_color=None)\n",
    "         #fill_color=linear_cmap(mu.loc[:,'class'].values, 'Viridis256', 0,1)\n",
    "show(s)"
   ]
  },
  {
   "cell_type": "markdown",
   "metadata": {},
   "source": [
    "## Sliders"
   ]
  },
  {
   "cell_type": "raw",
   "metadata": {
    "ExecuteTime": {
     "end_time": "2019-09-20T19:45:40.512063Z",
     "start_time": "2019-09-20T19:45:40.468892Z"
    }
   },
   "source": [
    "EB_EC_idx = ['15460']\n",
    "RR_RRab_idx = ['22213', '61754']"
   ]
  },
  {
   "cell_type": "code",
   "execution_count": 270,
   "metadata": {
    "ExecuteTime": {
     "end_time": "2019-09-20T20:54:38.573931Z",
     "start_time": "2019-09-20T20:54:38.455764Z"
    }
   },
   "outputs": [
    {
     "name": "stdout",
     "output_type": "stream",
     "text": [
      "Int64Index([54204], dtype='int64')\n",
      "[ 3.3176795e-01  2.3465063e-03 -3.0221080e-03  9.7502601e-01\n",
      "  2.4862661e+00 -7.4028014e-04]\n"
     ]
    },
    {
     "name": "stderr",
     "output_type": "stream",
     "text": [
      "/home/jorgemarpa/anaconda3/envs/pytorch1.3/lib/python3.6/site-packages/torch/nn/functional.py:1351: UserWarning: nn.functional.sigmoid is deprecated. Use torch.sigmoid instead.\n",
      "  warnings.warn(\"nn.functional.sigmoid is deprecated. Use torch.sigmoid instead.\")\n"
     ]
    },
    {
     "data": {
      "text/html": [
       "<div style=\"display: table;\"><div style=\"display: table-row;\"><div style=\"display: table-cell;\"><b title=\"bokeh.models.renderers.GlyphRenderer\">GlyphRenderer</b>(</div><div style=\"display: table-cell;\">id&nbsp;=&nbsp;'21076', <span id=\"21079\" style=\"cursor: pointer;\">&hellip;)</span></div></div><div class=\"21078\" style=\"display: none;\"><div style=\"display: table-cell;\"></div><div style=\"display: table-cell;\">data_source&nbsp;=&nbsp;ColumnDataSource(id='21073', ...),</div></div><div class=\"21078\" style=\"display: none;\"><div style=\"display: table-cell;\"></div><div style=\"display: table-cell;\">glyph&nbsp;=&nbsp;MultiLine(id='21074', ...),</div></div><div class=\"21078\" style=\"display: none;\"><div style=\"display: table-cell;\"></div><div style=\"display: table-cell;\">hover_glyph&nbsp;=&nbsp;None,</div></div><div class=\"21078\" style=\"display: none;\"><div style=\"display: table-cell;\"></div><div style=\"display: table-cell;\">js_event_callbacks&nbsp;=&nbsp;{},</div></div><div class=\"21078\" style=\"display: none;\"><div style=\"display: table-cell;\"></div><div style=\"display: table-cell;\">js_property_callbacks&nbsp;=&nbsp;{},</div></div><div class=\"21078\" style=\"display: none;\"><div style=\"display: table-cell;\"></div><div style=\"display: table-cell;\">level&nbsp;=&nbsp;'glyph',</div></div><div class=\"21078\" style=\"display: none;\"><div style=\"display: table-cell;\"></div><div style=\"display: table-cell;\">muted&nbsp;=&nbsp;False,</div></div><div class=\"21078\" style=\"display: none;\"><div style=\"display: table-cell;\"></div><div style=\"display: table-cell;\">muted_glyph&nbsp;=&nbsp;None,</div></div><div class=\"21078\" style=\"display: none;\"><div style=\"display: table-cell;\"></div><div style=\"display: table-cell;\">name&nbsp;=&nbsp;None,</div></div><div class=\"21078\" style=\"display: none;\"><div style=\"display: table-cell;\"></div><div style=\"display: table-cell;\">nonselection_glyph&nbsp;=&nbsp;MultiLine(id='21075', ...),</div></div><div class=\"21078\" style=\"display: none;\"><div style=\"display: table-cell;\"></div><div style=\"display: table-cell;\">selection_glyph&nbsp;=&nbsp;None,</div></div><div class=\"21078\" style=\"display: none;\"><div style=\"display: table-cell;\"></div><div style=\"display: table-cell;\">subscribed_events&nbsp;=&nbsp;[],</div></div><div class=\"21078\" style=\"display: none;\"><div style=\"display: table-cell;\"></div><div style=\"display: table-cell;\">tags&nbsp;=&nbsp;[],</div></div><div class=\"21078\" style=\"display: none;\"><div style=\"display: table-cell;\"></div><div style=\"display: table-cell;\">view&nbsp;=&nbsp;CDSView(id='21077', ...),</div></div><div class=\"21078\" style=\"display: none;\"><div style=\"display: table-cell;\"></div><div style=\"display: table-cell;\">visible&nbsp;=&nbsp;True,</div></div><div class=\"21078\" style=\"display: none;\"><div style=\"display: table-cell;\"></div><div style=\"display: table-cell;\">x_range_name&nbsp;=&nbsp;'default',</div></div><div class=\"21078\" style=\"display: none;\"><div style=\"display: table-cell;\"></div><div style=\"display: table-cell;\">y_range_name&nbsp;=&nbsp;'default')</div></div></div>\n",
       "<script>\n",
       "(function() {\n",
       "  var expanded = false;\n",
       "  var ellipsis = document.getElementById(\"21079\");\n",
       "  ellipsis.addEventListener(\"click\", function() {\n",
       "    var rows = document.getElementsByClassName(\"21078\");\n",
       "    for (var i = 0; i < rows.length; i++) {\n",
       "      var el = rows[i];\n",
       "      el.style.display = expanded ? \"none\" : \"table-row\";\n",
       "    }\n",
       "    ellipsis.innerHTML = expanded ? \"&hellip;)\" : \"&lsaquo;&lsaquo;&lsaquo;\";\n",
       "    expanded = !expanded;\n",
       "  });\n",
       "})();\n",
       "</script>\n"
      ],
      "text/plain": [
       "GlyphRenderer(id='21076', ...)"
      ]
     },
     "execution_count": 270,
     "metadata": {},
     "output_type": "execute_result"
    }
   ],
   "source": [
    "cls = 'RRLYR'\n",
    "idx = dataset.meta.reset_index().query('Type == \"%s\"' % cls).sample(1).index\n",
    "print(idx)\n",
    "lc, label, onehot, pp_n = dataset[idx]\n",
    "pp_inv = dataset.mm_scaler.inverse_transform(pp_n)\n",
    "lc = torch.from_numpy(lc)\n",
    "onehot = torch.from_numpy(onehot)\n",
    "pp = torch.from_numpy(pp_n)\n",
    "cc = torch.cat([onehot, pp], dim=1)\n",
    "\n",
    "\n",
    "if config['conditional_dim'] > num_cls:\n",
    "    lchat, mu, logvar, z = vae(lc, c=cc)\n",
    "elif config['conditional_dim'] == num_cls:\n",
    "    lchat, mu, logvar, z = vae(lc, c=onehot)\n",
    "elif config['conditional_dim'] == 0:\n",
    "    lchat, mu, logvar, z = vae(lc)\n",
    "\n",
    "z_n = mu.detach().numpy().flatten()\n",
    "lchat = lchat.detach().numpy()\n",
    "lc = lc.detach().numpy()\n",
    "print(z_n)\n",
    "\n",
    "p = figure(title=\"VAE\", plot_height=300, \n",
    "           plot_width=600, y_range=(1.1,-0.1),\n",
    "           background_fill_color='#efefef',\n",
    "           x_axis_label='Phase',\n",
    "           y_axis_label='Normalized Mag')\n",
    "#r = p.errorbar(x, y, color=\"royalblue\", line_width=1.5, alpha=0.8)\n",
    "real = p.circle(lc[0,:,0], lc[0,:,1], color='black', size=5, line_alpha=0)\n",
    "pred = p.circle(lc[0,:,0], lchat[0,:,0], color='royalblue', size=5, line_alpha=0)\n",
    "\n",
    "#create the coordinates for the errorbars\n",
    "err_xs = []\n",
    "err_ys = []\n",
    "for x, y, yerr in zip(lc[0,:,0], lc[0,:,1], lc[0,:,2]):\n",
    "    err_xs.append((x, x))\n",
    "    err_ys.append((y - yerr, y + yerr))\n",
    "\n",
    "# plot them\n",
    "p.multi_line(err_xs, err_ys, color='black')\n",
    "# show(p)"
   ]
  },
  {
   "cell_type": "code",
   "execution_count": 271,
   "metadata": {},
   "outputs": [],
   "source": [
    "#dt = torch.from_numpy(np.sort(np.random.choice(np.linspace(0,1,500, \n",
    "#                                                               dtype=np.float32), \n",
    "#                                           size=300))).unsqueeze(0)\n",
    "dt = torch.from_numpy(lc[0,:,0]).unsqueeze(0)"
   ]
  },
  {
   "cell_type": "code",
   "execution_count": 272,
   "metadata": {
    "ExecuteTime": {
     "end_time": "2019-09-20T20:55:45.432217Z",
     "start_time": "2019-09-20T20:55:45.379617Z"
    }
   },
   "outputs": [],
   "source": [
    "def update(label=label, \n",
    "           z0=z_n[0], z1=z_n[1], \n",
    "           z2=z_n[2], z3=z_n[3],\n",
    "           z4=z_n[4], z5=z_n[5], \n",
    "           period=pp_inv[0,0]):\n",
    "    \n",
    "    # idx = dataset.meta.reset_index().query('Type == \"%s\"' % label).sample(1).index\n",
    "    # lc, _, onehot, pp_n = dataset[idx]\n",
    "    # real.data_source.data['x'] = lc[0,:,0]\n",
    "    # real.data_source.data['y'] = lc[0,:,1]\n",
    "    \n",
    "    z_ = z.clone()\n",
    "    z_[0,0] = z0\n",
    "    z_[0,1] = z1\n",
    "    z_[0,2] = z2\n",
    "    z_[0,3] = z3\n",
    "    z_[0,4] = z4\n",
    "    z_[0,5] = z5\n",
    "    print('Latent vector: ', z_)\n",
    "    \n",
    "    new_onehot = torch.from_numpy(dataset.label_onehot_enc.transform(np.array(label).reshape(-1,1)))\n",
    "    print('Label: ', label, new_onehot)\n",
    "    \n",
    "    new_pp = torch.from_numpy(dataset.mm_scaler.transform(np.array([[period]],\n",
    "                                                                   dtype=np.float32)))\n",
    "    print('Phys params, enc(P, T_eff/met): ', new_pp)\n",
    "    cc = torch.cat([new_onehot, new_pp], dim=1)\n",
    "    \n",
    "        \n",
    "    if config['conditional_dim'] > num_cls:\n",
    "        lchat = vae.decoder(z_, dt, c=cc)\n",
    "    elif config['conditional_dim'] == num_cls:\n",
    "        lchat = vae.decoder(z_, dt, c=new_onehot)\n",
    "    elif config['conditional_dim'] == 0:\n",
    "        lchat = vae.decoder(z_)\n",
    "        \n",
    "    lchat = lchat.detach().numpy()\n",
    "    \n",
    "    pred.data_source.data['x'] = dt[0].detach().numpy()\n",
    "    pred.data_source.data['y'] = lchat[0,:,0]\n",
    "    \n",
    "    push_notebook()"
   ]
  },
  {
   "cell_type": "code",
   "execution_count": 269,
   "metadata": {},
   "outputs": [
    {
     "data": {
      "text/html": [
       "\n",
       "\n",
       "\n",
       "\n",
       "\n",
       "\n",
       "  <div class=\"bk-root\" id=\"dabb0270-ebca-4352-b88b-4931c6310d39\" data-root-id=\"19636\"></div>\n"
      ]
     },
     "metadata": {},
     "output_type": "display_data"
    },
    {
     "data": {
      "application/javascript": [
       "(function(root) {\n",
       "  function embed_document(root) {\n",
       "    \n",
       "  var docs_json = {\"0a5e5990-8cc0-4b9d-846c-b4c87de10bd2\":{\"roots\":{\"references\":[{\"attributes\":{\"background_fill_color\":{\"value\":\"#efefef\"},\"below\":[{\"id\":\"19647\",\"type\":\"LinearAxis\"}],\"center\":[{\"id\":\"19651\",\"type\":\"Grid\"},{\"id\":\"19656\",\"type\":\"Grid\"}],\"left\":[{\"id\":\"19652\",\"type\":\"LinearAxis\"}],\"plot_height\":300,\"renderers\":[{\"id\":\"19673\",\"type\":\"GlyphRenderer\"},{\"id\":\"19678\",\"type\":\"GlyphRenderer\"},{\"id\":\"19683\",\"type\":\"GlyphRenderer\"}],\"title\":{\"id\":\"19637\",\"type\":\"Title\"},\"toolbar\":{\"id\":\"19663\",\"type\":\"Toolbar\"},\"x_range\":{\"id\":\"19639\",\"type\":\"DataRange1d\"},\"x_scale\":{\"id\":\"19643\",\"type\":\"LinearScale\"},\"y_range\":{\"id\":\"19641\",\"type\":\"Range1d\"},\"y_scale\":{\"id\":\"19645\",\"type\":\"LinearScale\"}},\"id\":\"19636\",\"subtype\":\"Figure\",\"type\":\"Plot\"},{\"attributes\":{\"bottom_units\":\"screen\",\"fill_alpha\":{\"value\":0.5},\"fill_color\":{\"value\":\"lightgrey\"},\"left_units\":\"screen\",\"level\":\"overlay\",\"line_alpha\":{\"value\":1.0},\"line_color\":{\"value\":\"black\"},\"line_dash\":[4,4],\"line_width\":{\"value\":2},\"render_mode\":\"css\",\"right_units\":\"screen\",\"top_units\":\"screen\"},\"id\":\"20094\",\"type\":\"BoxAnnotation\"},{\"attributes\":{\"line_alpha\":{\"value\":0.1},\"line_color\":{\"value\":\"#1f77b4\"},\"xs\":{\"field\":\"xs\"},\"ys\":{\"field\":\"ys\"}},\"id\":\"19682\",\"type\":\"MultiLine\"},{\"attributes\":{},\"id\":\"19661\",\"type\":\"ResetTool\"},{\"attributes\":{},\"id\":\"20093\",\"type\":\"Selection\"},{\"attributes\":{\"xs\":{\"field\":\"xs\"},\"ys\":{\"field\":\"ys\"}},\"id\":\"19681\",\"type\":\"MultiLine\"},{\"attributes\":{},\"id\":\"20084\",\"type\":\"BasicTickFormatter\"},{\"attributes\":{\"callback\":null,\"data\":{\"x\":{\"__ndarray__\":\"F7fROMrvajuQw4Q7EwqsO3mn7TsyoUU8FsR4PErahTyjJIY85ZyRPMGeqDxk/tE81bfePPw5Lz1gZUI9YJ5CPc7xXz1YtWE9jRtlPYtQez05P4M90budPdyrqT32+rE9hRnAPWnKxT0Ao9M982bUPVVW4T3UYOI9qY3lPZmf5z3NWeg96MnpPUSiAz6U6AU+t2wHPsHSDT4i6w8+xGEVPpBlGD5V4B4+ZmUgPqKrID5S1CA+TKghPvubIz47SSQ+lH8qPj0/LD4eHi0+p48vPq1PMD7g+TE+FgIzPjkPND6lCTc+AXk4Pmy0Qz7xRkc+dUxKPjNUSj5yvEw+Pv9OPgE9VT6exFs+5/pcPibpXj7PkGA+Z35jPoRJZD5uCWs+mlZuPn5rbz7Me3E+rbF/PifmgT6VI4I+mFyCPm5Dhj6vv4Y+URKIPkOliD5SHok+LKeKPgStjD6cPJA+SHuQPimlkD7mdZI+ruKSPgfVkz7e4JQ+wE6VPtEKmT7ohJk+7QGaPsM/mj61x5o+yxebPgZ3nT4BYp4+GVmhPreeoz5iJag+DYypPohfqz4/x6w+Nx+uPqWbtT51xbU+w1u4PiBnvj4tIsI+Nn7HPpU8zj55Gc8+dGfPPjCs0D41LdM+1MXTPhGL1D5GItU+IE7ZPtIm4D66kOA+KOfhPuED4j5wSeQ+hBTmPk3x6D4nKek+WMHqPn8c6z6jkes+7jnuPney7z43CfA+7mjxPmrd8j6AlfU+rh/5Pt8x+T5YkPk+HWn6PoVD/D7Ehv0+ZvP9PrAxAD9M1QA/LOwBPzFjAz9d7AM/8fsDPyMRBD8fWgU/7O8FP0d5Bj9j+gc/ZOQIP5/nCD9GTQk/L1ALP7TbDD9jFA8/TZUQP8/wEj+aEhM/OJUTPx/nEz+V0RQ/BC4XP9hhFz+s9xc/1pYYP/E2GT/jVRk/QKYZP2tnGj8F6Ro/29obP82eHD9/sRw/4ucePy4sID/htyA/V8AlP0RlJj98hiY/F6IoP6rUKT+w3Ck/HVoqPz2yKj9D9yo/xQErP1yNKz+owSs/TZ4tPwniLj9jCTE/xWY0P4cINj/djzg/Ncs4P3M/OT/yajk/vaA6P37UOj/fUTs/djY8P76APD+SIj0/oPI9P1dLPj/a3T8/bppAPxsNQT/8KkQ/8sdFP5JaRj90iUg/osdIP21tST8NdEo/79JMP//kTD8IC08/6jhQP8akUD/I91A/D3ZRP6YNUj9yuVI/F8dSP1ZEVD8DWVQ/1ORVPy82Vj8x21c/GuFXP2U2WD8cPlg/t0lYP7PQWD8c/1g/YvZZP5WJWj8X3Fo/43ZbP50YXD/rgV0/m4xdPztwXj8OJ2A/90ZgP+azYD9YvWA/DCZhP1zcYT9812I/klVjPwUPZD/HPGc/8I5nP40CaD+L+Ws/IYZsP2v0bT+/am4/Tr9uP3gAbz+4W28/euZwP3w/cT85UnI/pCxzP40tcz88c3U/gLh1P37UdT+wIHY/SVh2P0lYdj8pQHc/Vpd3P3B+eD9Ct3g/yh15P9wAez8rl3s/xCp9P0mCfT8o2n0/7CN+P0lDfj8sf34/jTh/P7M9fz9z+X8/\",\"dtype\":\"float32\",\"shape\":[300]},\"y\":{\"__ndarray__\":\"ODKAPqkbgD6ef40+itSNPlpSlT64kpY+DhudPqcdnj61c6c+2haoPnGRrD4tGK0+y1SuPm//rj6WXbM+fDm0PvdTuD5aG7k+TCC9Pk+dvT71SsM+yWfDPl+zxT7u/MU+3srJPu8/yj7wws4+GwHPPm6n0T6SDNI+hqfVPtXx1T6KgtY+DafWPu152z50sts+FBvgPp2b4D7ncOM+SfbjPnkR5T4xrOU+t7nnPvL65z4pq+s+8z3sPpRH7z7ypO8+LhHxPjxw8T4hLvQ+tY30Pjyw+D660vg+1o/9PuXA/T7gDAA/8B4APyeTAj/k0wI/Y0wEP2M5BD+SrgU/ENwFP4KnBz//Kgg/jYwIP4ysCD9Enwg/lLAIP8ldCT+C5gk/K0gLP6peCz+lEgw/XHQNPwkCDj90Fw4/tt8OP2SCED/xWBE/G9kRPwPJEj+BcRM/GUgUPxv2FD9KjhY/Bu4WPwTSFz9IeBg/YdoYP09HGT9LFRo/MjcaP6nNGz9E9Rs/Lk8cP/1sHD+rPh0/11cdP6l/Hj9Wuh4/tzYgP1XDID+feCI/S+IiP5wZJD/XfiQ/OS0lP1g5Jz9Weyc/72EoPxoTKz8A6Cw/q+UuP1p/MT/IdzI/TWAzP8ZyND8w2TU/qFU2P0yUNj+vzTY/10I4P5jkOj9lpTo//q86PwuQOj/9TTo//ng6P/QqOz+mGDs/Iko7P9dcOz8AaDs/1BY8Px4xPD/DPzw/G5I8P0cWPT/U4z0/1cU+P6sPPz8JQT8/Irs/P6ktQD/s5UA/6/1APyoSQj/dSEI/uQJDP8mTQz/dBEQ/Lu5DP3cYRD/Ih0Q/JFlFP5WDRT8sd0Y/weNGP8crRz8KQEc/mmxIPygWST9Tzko/EGZLP1ngTD8r8kw/ypRNP+aeTT/GVU4/729PP14sUD/yf1A/SixRPyqTUT+AGlI/EiZSPySkUj9w1FI/6pNTP7AOVD8LJ1Q/niJVPzwZVj8ue1Y/yhFZP82wWT8xMlo/jO1aP75dWz+SYFs/hppdP3uwXT///F0/+eBdP8rwXj8o2F4/ic9fP3PtXz9BqGE/ukZiP/laYz/D2GM/RS1lP8bRZD8am2M/Be1iP6fBYD+2UV8/LjdcP3SPWj+eq1c/8HZWP8n5Uj9FilE/H3FMPx9mSj+VZkQ/F4JCP5EtNj8oUTQ/a7UoP3MqJj/zgRI//KsPP1vyCD//mgY/8w3zPhjm8D7wT9w+Wo7ZPvR5tT46wbE+arShPnR+nj4yOIU+p4qDPky4YT6c/1w+iacvPk0tLD6xCxY+qE4WPujBCD4NTAo+hHoCPuznAj4IKvY9o1X1PahG7z2vde89fWnrPYkJ7D3QZuw9StrsPT5v0j1imdM9QXPXPcTd1z02Pd49vIXfPWtA6z0pwO09OpH5Pez//D2l1gk+CWoMPkEWGz7h+Rw+T4EnPr1mKj5CdTU+Lsg3Pl6DQj72EUQ+7p1NPhKaTD6om1g+nPdZPhbTYz7tkGU+vqFwPuRDcT6CGno++yh6Pgh7gD6brYA+jp+CPkpkgz6W9IY+/OyGPtWZiT4wQIk+opmLPnBqiz46nY4+M9COPloTkT6JHJE+\",\"dtype\":\"float32\",\"shape\":[300]}},\"selected\":{\"id\":\"20091\",\"type\":\"Selection\"},\"selection_policy\":{\"id\":\"20090\",\"type\":\"UnionRenderers\"}},\"id\":\"19675\",\"type\":\"ColumnDataSource\"},{\"attributes\":{\"callback\":null,\"data\":{\"xs\":[[9.999999747378752e-05,9.999999747378752e-05],[0.0035848491825163364,0.0035848491825163364],[0.004051633179187775,0.004051633179187775],[0.005250224377959967,0.005250224377959967],[0.007252630311995745,0.007252630311995745],[0.012062357738614082,0.012062357738614082],[0.015183469280600548,0.015183469280600548],[0.016339439898729324,0.016339439898729324],[0.016374891623854637,0.016374891623854637],[0.01777500845491886,0.01777500845491886],[0.020583512261509895,0.020583512261509895],[0.025633998215198517,0.025633998215198517],[0.027187267318367958,0.027187267318367958],[0.04277990758419037,0.04277990758419037],[0.047459959983825684,0.047459959983825684],[0.04751431941986084,0.04751431941986084],[0.05467396229505539,0.05467396229505539],[0.055104583501815796,0.055104583501815796],[0.05593447759747505,0.05593447759747505],[0.061356108635663986,0.061356108635663986],[0.06408543139696121,0.06408543139696121],[0.0770183876156807,0.0770183876156807],[0.08284732699394226,0.08284732699394226],[0.08690445125102997,0.08690445125102997],[0.0937986746430397,0.0937986746430397],[0.0965774729847908,0.0965774729847908],[0.10333824157714844,0.10333824157714844],[0.10371198505163193,0.10371198505163193],[0.11002794653177261,0.11002794653177261],[0.11053624749183655,0.11053624749183655],[0.11208660155534744,0.11208660155534744],[0.11309737712144852,0.11309737712144852],[0.11345253139734268,0.11345253139734268],[0.1141546368598938,0.1141546368598938],[0.12854868173599243,0.12854868173599243],[0.1307700276374817,0.1307700276374817],[0.13225065171718597,0.13225065171718597],[0.13849927484989166,0.13849927484989166],[0.14054539799690247,0.14054539799690247],[0.14588075876235962,0.14588075876235962],[0.14882493019104004,0.14882493019104004],[0.15515263378620148,0.15515263378620148],[0.1566368043422699,0.1566368043422699],[0.15690472722053528,0.15690472722053528],[0.1570599377155304,0.1570599377155304],[0.15786856412887573,0.15786856412887573],[0.15977470576763153,0.15977470576763153],[0.16043560206890106,0.16043560206890106],[0.16650229692459106,0.16650229692459106],[0.1682099848985672,0.1682099848985672],[0.16906020045280457,0.16906020045280457],[0.17144642770290375,0.17144642770290375],[0.1721789389848709,0.1721789389848709],[0.17380475997924805,0.17380475997924805],[0.17481264472007751,0.17481264472007751],[0.17583931982517242,0.17583931982517242],[0.1787477284669876,0.1787477284669876],[0.18014909327030182,0.18014909327030182],[0.19111794233322144,0.19111794233322144],[0.19460655748844147,0.19460655748844147],[0.19755728542804718,0.19755728542804718],[0.1975868195295334,0.1975868195295334],[0.1999376118183136,0.1999376118183136],[0.2021455466747284,0.2021455466747284],[0.20824052393436432,0.20824052393436432],[0.21461722254753113,0.21461722254753113],[0.21580086648464203,0.21580086648464203],[0.217686265707016,0.217686265707016],[0.21930240094661713,0.21930240094661713],[0.22216187417507172,0.22216187417507172],[0.2229366898536682,0.2229366898536682],[0.22952815890312195,0.22952815890312195],[0.2327522337436676,0.2327522337436676],[0.2338084876537323,0.2338084876537323],[0.23582381010055542,0.23582381010055542],[0.24970121681690216,0.24970121681690216],[0.2537090480327606,0.2537090480327606],[0.2541777193546295,0.2541777193546295],[0.25461268424987793,0.25461268424987793],[0.2622331976890564,0.2622331976890564],[0.2631811797618866,0.2631811797618866],[0.2657647430896759,0.2657647430896759],[0.2668858468532562,0.2668858468532562],[0.2678094506263733,0.2678094506263733],[0.2708066701889038,0.2708066701889038],[0.2747575044631958,0.2747575044631958],[0.2817124128341675,0.2817124128341675],[0.28219056129455566,0.28219056129455566],[0.28251007199287415,0.28251007199287415],[0.2860557436943054,0.2860557436943054],[0.28688567876815796,0.28688567876815796],[0.28873464465141296,0.28873464465141296],[0.29077810049057007,0.29077810049057007],[0.29161643981933594,0.29161643981933594],[0.29891064763069153,0.29891064763069153],[0.29984211921691895,0.29984211921691895],[0.30079594254493713,0.30079594254493713],[0.30126771330833435,0.30126771330833435],[0.3023048937320709,0.3023048937320709],[0.30291590094566345,0.30291590094566345],[0.3075487017631531,0.3075487017631531],[0.3093414604663849,0.3093414604663849],[0.31513288617134094,0.31513288617134094],[0.31957027316093445,0.31957027316093445],[0.32841020822525024,0.32841020822525024],[0.33114662766456604,0.33114662766456604],[0.3347132205963135,0.3347132205963135],[0.3374576270580292,0.3374576270580292],[0.3400819003582001,0.3400819003582001],[0.3547030985355377,0.3547030985355377],[0.3550221025943756,0.3550221025943756],[0.36007508635520935,0.36007508635520935],[0.37188053131103516,0.37188053131103516],[0.37916699051856995,0.37916699051856995],[0.38963478803634644,0.38963478803634644],[0.40280595421791077,0.40280595421791077],[0.40449121594429016,0.40449121594429016],[0.4050861597061157,0.4050861597061157],[0.4075636863708496,0.4075636863708496],[0.4124542772769928,0.4124542772769928],[0.41361868381500244,0.41361868381500244],[0.41512349247932434,0.41512349247932434],[0.41627711057662964,0.41627711057662964],[0.4244241714477539,0.4244241714477539],[0.4377961754798889,0.4377961754798889],[0.4386041760444641,0.4386041760444641],[0.44121670722961426,0.44121670722961426],[0.441435843706131,0.441435843706131],[0.44587278366088867,0.44587278366088867],[0.4493752717971802,0.4493752717971802],[0.4549659788608551,0.4549659788608551],[0.45539209246635437,0.45539209246635437],[0.45850634574890137,0.45850634574890137],[0.45920178294181824,0.45920178294181824],[0.46009549498558044,0.46009549498558044],[0.4652857184410095,0.4652857184410095],[0.46815845370292664,0.46815845370292664],[0.4688203036785126,0.4688203036785126],[0.47150367498397827,0.47150367498397827],[0.47434550523757935,0.47434550523757935],[0.4796562194824219,0.4796562194824219],[0.4865698218345642,0.4865698218345642],[0.4867086112499237,0.4867086112499237],[0.4874293804168701,0.4874293804168701],[0.4890832006931305,0.4890832006931305],[0.4927026331424713,0.4927026331424713],[0.4951688051223755,0.4951688051223755],[0.4959976077079773,0.4959976077079773],[0.500758171081543,0.500758171081543],[0.5032546520233154,0.5032546520233154],[0.5075099468231201,0.5075099468231201],[0.5132322907447815,0.5132322907447815],[0.5153253674507141,0.5153253674507141],[0.5155630707740784,0.5155630707740784],[0.5158864855766296,0.5158864855766296],[0.520906388759613,0.520906388759613],[0.5231921672821045,0.5231921672821045],[0.5252880454063416,0.5252880454063416],[0.5311643481254578,0.5311643481254578],[0.5347349643707275,0.5347349643707275],[0.5347842574119568,0.5347842574119568],[0.5363353490829468,0.5363353490829468],[0.5441922545433044,0.5441922545433044],[0.5502274036407471,0.5502274036407471],[0.5589048266410828,0.5589048266410828],[0.5647781491279602,0.5647781491279602],[0.5739869475364685,0.5739869475364685],[0.5745025873184204,0.5745025873184204],[0.5764956474304199,0.5764956474304199],[0.5777453780174255,0.5777453780174255],[0.581322968006134,0.581322968006134],[0.5905458927154541,0.5905458927154541],[0.591336727142334,0.591336727142334],[0.5936229228973389,0.5936229228973389],[0.5960515737533569,0.5960515737533569],[0.5984945893287659,0.5984945893287659],[0.5989667773246765,0.5989667773246765],[0.6001930236816406,0.6001930236816406],[0.6031405329704285,0.6031405329704285],[0.6051180958747864,0.6051180958747864],[0.6088082194328308,0.6088082194328308],[0.611798107624054,0.611798107624054],[0.612083375453949,0.612083375453949],[0.6207257509231567,0.6207257509231567],[0.6256741285324097,0.6256741285324097],[0.627805769443512,0.627805769443512],[0.6474661231040955,0.6474661231040955],[0.6499826908111572,0.6499826908111572],[0.6504895687103271,0.6504895687103271],[0.6587232947349548,0.6587232947349548],[0.6634012460708618,0.6634012460708618],[0.6635236740112305,0.6635236740112305],[0.6654375195503235,0.6654375195503235],[0.6667822003364563,0.6667822003364563],[0.6678354144096375,0.6678354144096375],[0.6679957509040833,0.6679957509040833],[0.6701257228851318,0.6701257228851318],[0.6709237098693848,0.6709237098693848],[0.6781967282295227,0.6781967282295227],[0.683136522769928,0.683136522769928],[0.6915494799613953,0.6915494799613953],[0.7046931385993958,0.7046931385993958],[0.7110676169395447,0.7110676169395447],[0.7209451794624329,0.7209451794624329],[0.7218506932258606,0.7218506932258606],[0.7236244082450867,0.7236244082450867],[0.7242881059646606,0.7242881059646606],[0.7290151715278625,0.7290151715278625],[0.7298048734664917,0.7298048734664917],[0.7317180037498474,0.7317180037498474],[0.7352060079574585,0.7352060079574585],[0.7363394498825073,0.7363394498825073],[0.7388087511062622,0.7388087511062622],[0.7419834136962891,0.7419834136962891],[0.743337094783783,0.743337094783783],[0.7494789361953735,0.7494789361953735],[0.7523564100265503,0.7523564100265503],[0.7541062235832214,0.7541062235832214],[0.7662808895111084,0.7662808895111084],[0.7725821733474731,0.7725821733474731],[0.7748194932937622,0.7748194932937622],[0.7833473682403564,0.7833473682403564],[0.7842961549758911,0.7842961549758911],[0.786825954914093,0.786825954914093],[0.7908332943916321,0.7908332943916321],[0.8000935912132263,0.8000935912132263],[0.8003692030906677,0.8003692030906677],[0.8087620735168457,0.8087620735168457],[0.8133684396743774,0.8133684396743774],[0.8150142431259155,0.8150142431259155],[0.8162808418273926,0.8162808418273926],[0.8182076811790466,0.8182076811790466],[0.8205207586288452,0.8205207586288452],[0.8231421709060669,0.8231421709060669],[0.8233503699302673,0.8233503699302673],[0.8291677236557007,0.8291677236557007],[0.8294832110404968,0.8294832110404968],[0.8355228900909424,0.8355228900909424],[0.8367642760276794,0.8367642760276794],[0.8431883454322815,0.8431883454322815],[0.8432785272598267,0.8432785272598267],[0.8445799946784973,0.8445799946784973],[0.8446977138519287,0.8446977138519287],[0.8448747992515564,0.8448747992515564],[0.8469344973564148,0.8469344973564148],[0.8476426601409912,0.8476426601409912],[0.851415753364563,0.851415753364563],[0.853661835193634,0.853661835193634],[0.8549208045005798,0.8549208045005798],[0.857282817363739,0.857282817363739],[0.8597505688667297,0.8597505688667297],[0.8652636408805847,0.8652636408805847],[0.8654267191886902,0.8654267191886902],[0.8689000010490417,0.8689000010490417],[0.8755959272384644,0.8755959272384644],[0.8760828375816345,0.8760828375816345],[0.8777450323104858,0.8777450323104858],[0.8778891563415527,0.8778891563415527],[0.8794867992401123,0.8794867992401123],[0.8822686672210693,0.8822686672210693],[0.8861005306243896,0.8861005306243896],[0.8880244493484497,0.8880244493484497],[0.8908541798591614,0.8908541798591614],[0.9032711386680603,0.9032711386680603],[0.9045248031616211,0.9045248031616211],[0.9062889218330383,0.9062889218330383],[0.9217764735221863,0.9217764735221863],[0.9239216446876526,0.9239216446876526],[0.929510772228241,0.929510772228241],[0.9313163161277771,0.9313163161277771],[0.93260657787323,0.93260657787323],[0.933600902557373,0.933600902557373],[0.9349932670593262,0.9349932670593262],[0.9410167932510376,0.9410167932510376],[0.9423749446868896,0.9423749446868896],[0.9465671181678772,0.9465671181678772],[0.9498999118804932,0.9498999118804932],[0.9499137997627258,0.9499137997627258],[0.958789587020874,0.958789587020874],[0.9598464965820312,0.9598464965820312],[0.9602736234664917,0.9602736234664917],[0.9614362716674805,0.9614362716674805],[0.9622846245765686,0.9622846245765686],[0.9622846245765686,0.9622846245765686],[0.9658227562904358,0.9658227562904358],[0.9671529531478882,0.9671529531478882],[0.9706792831420898,0.9706792831420898],[0.9715462923049927,0.9715462923049927],[0.9731107950210571,0.9731107950210571],[0.9804818630218506,0.9804818630218506],[0.9827753901481628,0.9827753901481628],[0.988933801651001,0.988933801651001],[0.9902692437171936,0.9902692437171936],[0.991610050201416,0.991610050201416],[0.9927356243133545,0.9927356243133545],[0.9932141900062561,0.9932141900062561],[0.9941279888153076,0.9941279888153076],[0.9969566464424133,0.9969566464424133],[0.9970352053642273,0.9970352053642273],[0.9999000430107117,0.9999000430107117]],\"ys\":[[0.2665337920188904,0.2853725552558899],[0.2692261338233948,0.2880648970603943],[0.2732625901699066,0.29479262232780457],[0.261152446269989,0.2772999405860901],[0.2665348947048187,0.29075613617897034],[0.2867186367511749,0.30555739998817444],[0.2786449193954468,0.29479241371154785],[0.29479309916496277,0.3136318624019623],[0.2840270400047302,0.3001745343208313],[0.28806406259536743,0.3095940947532654],[0.29210150241851807,0.30824899673461914],[0.2988297939300537,0.3149772882461548],[0.30555808544158936,0.32170557975769043],[0.3136318027973175,0.332470566034317],[0.29344692826271057,0.3122856914997101],[0.3136318027973175,0.332470566034317],[0.32977938652038574,0.34861814975738525],[0.33785203099250793,0.353999525308609],[0.34188997745513916,0.3553462624549866],[0.34188979864120483,0.36072856187820435],[0.3486180901527405,0.36745685338974],[0.37956714630126953,0.39840590953826904],[0.38225874304771423,0.4037887752056122],[0.3607279658317566,0.37687546014785767],[0.37822097539901733,0.39705973863601685],[0.3984053134918213,0.41455280780792236],[0.4010967016220093,0.4253179430961609],[0.38091257214546204,0.40244260430336],[0.401096373796463,0.4172438681125641],[0.4024423062801361,0.42397233843803406],[0.39705967903137207,0.4158984422683716],[0.41186240315437317,0.4307011663913727],[0.39436936378479004,0.4105168581008911],[0.41186240315437317,0.4307011663913727],[0.4253182113170624,0.4468482434749603],[0.4307010769844055,0.44953984022140503],[0.41858991980552673,0.4401199519634247],[0.4414653182029724,0.4603040814399719],[0.43877407908439636,0.462995320558548],[0.4414653182029724,0.4603040814399719],[0.44684869050979614,0.46568745374679565],[0.4791426658630371,0.4979814291000366],[0.4549218714237213,0.4737606346607208],[0.457613468170166,0.47914350032806396],[0.4656868577003479,0.481834352016449],[0.44684794545173645,0.4683779776096344],[0.47510671615600586,0.49394547939300537],[0.4791432023048401,0.500673234462738],[0.48990875482559204,0.51143878698349],[0.4845260679721832,0.5033648014068604],[0.4777970314025879,0.49932706356048584],[0.48721712827682495,0.5060558915138245],[0.4724154770374298,0.4966367185115814],[0.4804888367652893,0.4993276000022888],[0.48990800976753235,0.5141292810440063],[0.4818342626094818,0.5033642649650574],[0.4899081885814667,0.5087469220161438],[0.48317989706993103,0.5020186305046082],[0.5047096610069275,0.523548424243927],[0.5248950719833374,0.5464251041412354],[0.5154751539230347,0.5343139171600342],[0.5114384889602661,0.5329685211181641],[0.5074020028114319,0.5262407660484314],[0.5141295194625854,0.5356595516204834],[0.518166720867157,0.5396967530250549],[0.5248950719833374,0.5464251041412354],[0.5437337160110474,0.5652637481689453],[0.570646345615387,0.5894851088523865],[0.5491158366203308,0.5706458687782288],[0.5518074035644531,0.5760287046432495],[0.5329676866531372,0.5518064498901367],[0.5437331795692444,0.5625719428062439],[0.5585351586341858,0.5800651907920837],[0.5571895241737366,0.581410825252533],[0.5746828317642212,0.5962128639221191],[0.5881386399269104,0.6123599410057068],[0.5733373761177063,0.5921761393547058],[0.56930011510849,0.5881388783454895],[0.5894850492477417,0.6083238124847412],[0.5894842743873596,0.6110143065452576],[0.5894842743873596,0.6110143065452576],[0.5881394147872925,0.6096694469451904],[0.5639178156852722,0.5881391167640686],[0.592175304889679,0.6137053370475769],[0.6137063503265381,0.635236382484436],[0.6379276514053345,0.6621489524841309],[0.6217800378799438,0.6460013389587402],[0.600249171257019,0.6190879344940186],[0.6204338669776917,0.644655168056488],[0.6083229184150696,0.6298529505729675],[0.6271623373031616,0.6460011005401611],[0.6217795014381409,0.6433095335960388],[0.6258162260055542,0.6446549892425537],[0.6163968443870544,0.635235607624054],[0.6446548104286194,0.6634935736656189],[0.633890688419342,0.6527294516563416],[0.6298534274101257,0.6486921906471252],[0.6298534274101257,0.6486921906471252],[0.6352360844612122,0.6567661166191101],[0.6486918926239014,0.6729131937026978],[0.6486926078796387,0.6702226400375366],[0.6190889477729797,0.6433102488517761],[0.641964316368103,0.663494348526001],[0.6285083293914795,0.6527296304702759],[0.6675307750701904,0.6863695383071899],[0.6648397445678711,0.6836785078048706],[0.6634941101074219,0.6850241422653198],[0.6729134321212769,0.6944434642791748],[0.6554201245307922,0.6796414256095886],[0.6863694190979004,0.7052081823348999],[0.6702218651771545,0.689060628414154],[0.6729134321212769,0.6944434642791748],[0.6863700151443481,0.7079000473022461],[0.7105913162231445,0.7348126173019409],[0.6863700151443481,0.7079000473022461],[0.7119364142417908,0.7307751774787903],[0.7119364142417908,0.7307751774787903],[0.7038624882698059,0.7253925204277039],[0.7186652421951294,0.7401952743530273],[0.6998260021209717,0.7186647653579712],[0.713282585144043,0.7321213483810425],[0.713282585144043,0.7321213483810425],[0.6917515397071838,0.7105903029441833],[0.7253928184509277,0.7496141195297241],[0.7294301986694336,0.7482689619064331],[0.7038624882698059,0.7253925204277039],[0.7307748794555664,0.7549961805343628],[0.7361577749252319,0.7576878070831299],[0.7065542936325073,0.7253930568695068],[0.7227019667625427,0.7415407299995422],[0.7186652421951294,0.7401952743530273],[0.7388495206832886,0.7576882839202881],[0.7321205139160156,0.7536505460739136],[0.7428860068321228,0.7644160389900208],[0.7576879858970642,0.7819092869758606],[0.7549969553947449,0.7792182564735413],[0.7482681274414062,0.7697981595993042],[0.7469226717948914,0.7657614350318909],[0.7563418745994568,0.7805631756782532],[0.7523047924041748,0.7711435556411743],[0.7738350629806519,0.7953650951385498],[0.7509597539901733,0.7751810550689697],[0.7334659099578857,0.7576872110366821],[0.7469226717948914,0.7657614350318909],[0.7401949763298035,0.7617250084877014],[0.7711445689201355,0.7953658699989319],[0.7778715491294861,0.8020928502082825],[0.7428854703903198,0.7617242336273193],[0.757687509059906,0.779217541217804],[0.7496137619018555,0.768452525138855],[0.7563420534133911,0.7751808166503906],[0.7603790760040283,0.7846003770828247],[0.7684530019760132,0.7899830341339111],[0.7832549810409546,0.807476282119751],[0.7509591579437256,0.7724891901016235],[0.7805638909339905,0.8047851920127869],[0.7455776333808899,0.7697989344596863],[0.7590331435203552,0.7778719067573547],[0.7657619714736938,0.7872920036315918],[0.7630703449249268,0.7819091081619263],[0.7657619714736938,0.7872920036315918],[0.7805638909339905,0.8047851920127869],[0.7792171835899353,0.8007472157478333],[0.7846006155014038,0.8061306476593018],[0.7792171835899353,0.8007472157478333],[0.798056423664093,0.8222777247428894],[0.7980566620826721,0.8168954253196716],[0.8061308860778809,0.8303521871566772],[0.7792177796363831,0.8034390807151794],[0.7805628180503845,0.799401581287384],[0.7724894285202026,0.796710729598999],[0.7886378765106201,0.8101679086685181],[0.7805638909339905,0.8047851920127869],[0.7913283705711365,0.810167133808136],[0.7630701065063477,0.787291407585144],[0.7778723239898682,0.7994023561477661],[0.7846006155014038,0.8061306476593018],[0.7792171835899353,0.8007472157478333],[0.8142035007476807,0.8357335329055786],[0.795365571975708,0.8142043352127075],[0.8047847151756287,0.829006016254425],[0.8020936250686646,0.8263149261474609],[0.7819095253944397,0.8034395575523376],[0.798056423664093,0.8222777247428894],[0.8034385442733765,0.8276598453521729],[0.7899832725524902,0.8142045736312866],[0.8464987874031067,0.8680288195610046],[0.8559186458587646,0.880139946937561],[0.8545732498168945,0.8761032819747925],[0.8559181094169617,0.8774481415748596],[0.8680290579795837,0.8922503590583801],[0.8720662593841553,0.8962875604629517],[0.9083974361419678,0.9326187372207642],[0.8707200884819031,0.8949413895606995],[0.8801401853561401,0.9016702175140381],[0.8666828274726868,0.8909041285514832],[0.8357337713241577,0.8599550724029541],[0.8909051418304443,0.9097439050674438],[0.8989788889884949,0.9205089211463928],[0.9124341011047363,0.9339641332626343],[0.9272361397743225,0.9514574408531189],[0.950111985206604,0.9743332862854004],[0.9756790399551392,0.9999003410339355],[0.9528030753135681,0.9770243763923645],[0.9743330478668213,0.9931718111038208],[0.9635685682296753,0.9877898693084717],[0.9622231721878052,0.9837532043457031],[0.9595320820808411,0.981062114238739],[0.9649147987365723,0.9891360998153687],[0.9864445328712463,1.010665774345398],[0.9877893924713135,1.0120106935501099],[0.9756790399551392,0.9999003410339355],[0.9474209547042847,0.971642255783081],[0.9581864476203918,0.9824077486991882],[0.9702969193458557,0.9945182204246521],[0.9554943442344666,0.9743331074714661],[0.9460747838020325,0.9702960848808289],[0.9393472671508789,0.9608772993087769],[0.9151264429092407,0.9366564750671387],[0.9016691446304321,0.9258904457092285],[0.8734111785888672,0.8976324796676636],[0.7926737666130066,0.8142037987709045],[0.7940199375152588,0.8155499696731567],[0.7576879858970642,0.7819092869758606],[0.734811544418335,0.7563415765762329],[0.5760276913642883,0.5975577235221863],[0.5679544806480408,0.5894845128059387],[0.4280100166797638,0.4468487799167633],[0.3943691551685333,0.4158991873264313],[0.3620733618736267,0.3809121251106262],[0.3876408636569977,0.40917089581489563],[0.34054362773895264,0.35938239097595215],[0.36880216002464294,0.3903321921825409],[0.34323468804359436,0.36207345128059387],[0.32843267917633057,0.34458017349243164],[0.3217051029205322,0.33516138792037964],[0.2624971270561218,0.2840271592140198],[0.20059843361377716,0.21943719685077667],[0.20463621616363525,0.22616621851921082],[0.1413913369178772,0.1602301001548767],[0.12120649218559265,0.14004525542259216],[0.08487475663423538,0.10102226585149765],[0.10102292150259018,0.11986168473958969],[0.10775066167116165,0.12389817088842392],[0.07680158317089081,0.09294909238815308],[0.06468990445137024,0.08083741366863251],[0.06334501504898071,0.07949252426624298],[0.05392494052648544,0.07276370376348495],[0.057962171733379364,0.07680093497037888],[0.052580252289772034,0.06603650748729706],[0.025667663663625717,0.041815172880887985],[0.008174607530236244,0.021630864590406418],[0.024322230368852615,0.03777848929166794],[0.01893937774002552,0.03508688509464264],[0.008173868060112,0.024321377277374268],[-0.007973754778504372,0.008173754438757896],[0.014902695082128048,0.033741455525159836],[0.001446128822863102,0.02028489112854004],[0.0027922987937927246,0.021631060168147087],[0.024322036653757095,0.04316079989075661],[0.047197941690683365,0.06603670120239258],[0.018938638269901276,0.03777740150690079],[0.035086456686258316,0.04854271188378334],[0.05930834263563156,0.07814710587263107],[0.055270567536354065,0.07141807675361633],[0.07007330656051636,0.08622081577777863],[0.09429483860731125,0.10775109380483627],[0.10909609496593475,0.12793485820293427],[0.10505960881710052,0.12120711803436279],[0.12928041815757751,0.1454279124736786],[0.13197198510169983,0.15081074833869934],[0.1292809545993805,0.14811971783638],[0.1400459110736847,0.15619340538978577],[0.13735410571098328,0.1561928689479828],[0.129281148314476,0.14273740351200104],[0.16292162239551544,0.184451624751091],[0.16292107105255127,0.18175983428955078],[0.19252526760101318,0.2113640308380127],[0.17906814813613892,0.19521567225456238],[0.1804143190383911,0.19656184315681458],[0.1938701570034027,0.21270892024040222],[0.18848749995231628,0.20463499426841736],[0.18445080518722534,0.20328956842422485],[0.18445099890232086,0.1979072540998459],[0.18579643964767456,0.20194393396377563],[0.18445080518722534,0.20328956842422485],[0.18848749995231628,0.20463499426841736],[0.19790685176849365,0.21405434608459473],[0.19521579146385193,0.211363285779953],[0.2342391163110733,0.25576913356781006],[0.21674680709838867,0.23289430141448975],[0.23693090677261353,0.25576967000961304],[0.2315475046634674,0.2503862679004669],[0.22885644435882568,0.2476952075958252],[0.23289313912391663,0.2490406334400177],[0.2557688355445862,0.27729886770248413],[0.22481995820999146,0.24096748232841492],[0.2557688355445862,0.27729886770248413],[0.24096760153770447,0.25711509585380554],[0.25307798385620117,0.26922547817230225]]},\"selected\":{\"id\":\"20093\",\"type\":\"Selection\"},\"selection_policy\":{\"id\":\"20092\",\"type\":\"UnionRenderers\"}},\"id\":\"19680\",\"type\":\"ColumnDataSource\"},{\"attributes\":{\"callback\":null},\"id\":\"19639\",\"type\":\"DataRange1d\"},{\"attributes\":{\"callback\":null,\"end\":-0.1,\"start\":1.1},\"id\":\"19641\",\"type\":\"Range1d\"},{\"attributes\":{\"source\":{\"id\":\"19675\",\"type\":\"ColumnDataSource\"}},\"id\":\"19679\",\"type\":\"CDSView\"},{\"attributes\":{\"active_drag\":\"auto\",\"active_inspect\":\"auto\",\"active_multi\":null,\"active_scroll\":\"auto\",\"active_tap\":\"auto\",\"tools\":[{\"id\":\"19657\",\"type\":\"PanTool\"},{\"id\":\"19658\",\"type\":\"WheelZoomTool\"},{\"id\":\"19659\",\"type\":\"BoxZoomTool\"},{\"id\":\"19660\",\"type\":\"SaveTool\"},{\"id\":\"19661\",\"type\":\"ResetTool\"},{\"id\":\"19662\",\"type\":\"HelpTool\"}]},\"id\":\"19663\",\"type\":\"Toolbar\"},{\"attributes\":{},\"id\":\"19658\",\"type\":\"WheelZoomTool\"},{\"attributes\":{\"data_source\":{\"id\":\"19675\",\"type\":\"ColumnDataSource\"},\"glyph\":{\"id\":\"19676\",\"type\":\"Circle\"},\"hover_glyph\":null,\"muted_glyph\":null,\"nonselection_glyph\":{\"id\":\"19677\",\"type\":\"Circle\"},\"selection_glyph\":null,\"view\":{\"id\":\"19679\",\"type\":\"CDSView\"}},\"id\":\"19678\",\"type\":\"GlyphRenderer\"},{\"attributes\":{\"overlay\":{\"id\":\"20094\",\"type\":\"BoxAnnotation\"}},\"id\":\"19659\",\"type\":\"BoxZoomTool\"},{\"attributes\":{\"text\":\"VAE\"},\"id\":\"19637\",\"type\":\"Title\"},{\"attributes\":{},\"id\":\"19643\",\"type\":\"LinearScale\"},{\"attributes\":{},\"id\":\"20088\",\"type\":\"UnionRenderers\"},{\"attributes\":{\"fill_alpha\":{\"value\":0.1},\"fill_color\":{\"value\":\"#1f77b4\"},\"line_alpha\":{\"value\":0.1},\"line_color\":{\"value\":\"#1f77b4\"},\"size\":{\"units\":\"screen\",\"value\":5},\"x\":{\"field\":\"x\"},\"y\":{\"field\":\"y\"}},\"id\":\"19677\",\"type\":\"Circle\"},{\"attributes\":{},\"id\":\"19648\",\"type\":\"BasicTicker\"},{\"attributes\":{\"fill_color\":{\"value\":\"royalblue\"},\"line_alpha\":{\"value\":0},\"line_color\":{\"value\":\"royalblue\"},\"size\":{\"units\":\"screen\",\"value\":5},\"x\":{\"field\":\"x\"},\"y\":{\"field\":\"y\"}},\"id\":\"19676\",\"type\":\"Circle\"},{\"attributes\":{},\"id\":\"20089\",\"type\":\"Selection\"},{\"attributes\":{},\"id\":\"19645\",\"type\":\"LinearScale\"},{\"attributes\":{},\"id\":\"20090\",\"type\":\"UnionRenderers\"},{\"attributes\":{\"source\":{\"id\":\"19670\",\"type\":\"ColumnDataSource\"}},\"id\":\"19674\",\"type\":\"CDSView\"},{\"attributes\":{\"axis_label\":\"Phase\",\"formatter\":{\"id\":\"20084\",\"type\":\"BasicTickFormatter\"},\"ticker\":{\"id\":\"19648\",\"type\":\"BasicTicker\"}},\"id\":\"19647\",\"type\":\"LinearAxis\"},{\"attributes\":{\"data_source\":{\"id\":\"19670\",\"type\":\"ColumnDataSource\"},\"glyph\":{\"id\":\"19671\",\"type\":\"Circle\"},\"hover_glyph\":null,\"muted_glyph\":null,\"nonselection_glyph\":{\"id\":\"19672\",\"type\":\"Circle\"},\"selection_glyph\":null,\"view\":{\"id\":\"19674\",\"type\":\"CDSView\"}},\"id\":\"19673\",\"type\":\"GlyphRenderer\"},{\"attributes\":{\"ticker\":{\"id\":\"19648\",\"type\":\"BasicTicker\"}},\"id\":\"19651\",\"type\":\"Grid\"},{\"attributes\":{},\"id\":\"20086\",\"type\":\"BasicTickFormatter\"},{\"attributes\":{\"axis_label\":\"Normalized Mag\",\"formatter\":{\"id\":\"20086\",\"type\":\"BasicTickFormatter\"},\"ticker\":{\"id\":\"19653\",\"type\":\"BasicTicker\"}},\"id\":\"19652\",\"type\":\"LinearAxis\"},{\"attributes\":{},\"id\":\"20091\",\"type\":\"Selection\"},{\"attributes\":{},\"id\":\"19653\",\"type\":\"BasicTicker\"},{\"attributes\":{\"callback\":null,\"data\":{\"x\":{\"__ndarray__\":\"F7fROMrvajuQw4Q7EwqsO3mn7TsyoUU8FsR4PErahTyjJIY85ZyRPMGeqDxk/tE81bfePPw5Lz1gZUI9YJ5CPc7xXz1YtWE9jRtlPYtQez05P4M90budPdyrqT32+rE9hRnAPWnKxT0Ao9M982bUPVVW4T3UYOI9qY3lPZmf5z3NWeg96MnpPUSiAz6U6AU+t2wHPsHSDT4i6w8+xGEVPpBlGD5V4B4+ZmUgPqKrID5S1CA+TKghPvubIz47SSQ+lH8qPj0/LD4eHi0+p48vPq1PMD7g+TE+FgIzPjkPND6lCTc+AXk4Pmy0Qz7xRkc+dUxKPjNUSj5yvEw+Pv9OPgE9VT6exFs+5/pcPibpXj7PkGA+Z35jPoRJZD5uCWs+mlZuPn5rbz7Me3E+rbF/PifmgT6VI4I+mFyCPm5Dhj6vv4Y+URKIPkOliD5SHok+LKeKPgStjD6cPJA+SHuQPimlkD7mdZI+ruKSPgfVkz7e4JQ+wE6VPtEKmT7ohJk+7QGaPsM/mj61x5o+yxebPgZ3nT4BYp4+GVmhPreeoz5iJag+DYypPohfqz4/x6w+Nx+uPqWbtT51xbU+w1u4PiBnvj4tIsI+Nn7HPpU8zj55Gc8+dGfPPjCs0D41LdM+1MXTPhGL1D5GItU+IE7ZPtIm4D66kOA+KOfhPuED4j5wSeQ+hBTmPk3x6D4nKek+WMHqPn8c6z6jkes+7jnuPney7z43CfA+7mjxPmrd8j6AlfU+rh/5Pt8x+T5YkPk+HWn6PoVD/D7Ehv0+ZvP9PrAxAD9M1QA/LOwBPzFjAz9d7AM/8fsDPyMRBD8fWgU/7O8FP0d5Bj9j+gc/ZOQIP5/nCD9GTQk/L1ALP7TbDD9jFA8/TZUQP8/wEj+aEhM/OJUTPx/nEz+V0RQ/BC4XP9hhFz+s9xc/1pYYP/E2GT/jVRk/QKYZP2tnGj8F6Ro/29obP82eHD9/sRw/4ucePy4sID/htyA/V8AlP0RlJj98hiY/F6IoP6rUKT+w3Ck/HVoqPz2yKj9D9yo/xQErP1yNKz+owSs/TZ4tPwniLj9jCTE/xWY0P4cINj/djzg/Ncs4P3M/OT/yajk/vaA6P37UOj/fUTs/djY8P76APD+SIj0/oPI9P1dLPj/a3T8/bppAPxsNQT/8KkQ/8sdFP5JaRj90iUg/osdIP21tST8NdEo/79JMP//kTD8IC08/6jhQP8akUD/I91A/D3ZRP6YNUj9yuVI/F8dSP1ZEVD8DWVQ/1ORVPy82Vj8x21c/GuFXP2U2WD8cPlg/t0lYP7PQWD8c/1g/YvZZP5WJWj8X3Fo/43ZbP50YXD/rgV0/m4xdPztwXj8OJ2A/90ZgP+azYD9YvWA/DCZhP1zcYT9812I/klVjPwUPZD/HPGc/8I5nP40CaD+L+Ws/IYZsP2v0bT+/am4/Tr9uP3gAbz+4W28/euZwP3w/cT85UnI/pCxzP40tcz88c3U/gLh1P37UdT+wIHY/SVh2P0lYdj8pQHc/Vpd3P3B+eD9Ct3g/yh15P9wAez8rl3s/xCp9P0mCfT8o2n0/7CN+P0lDfj8sf34/jTh/P7M9fz9z+X8/\",\"dtype\":\"float32\",\"shape\":[300]},\"y\":{\"__ndarray__\":\"vEmNPqCqjj4RbJE+BNiJPqCqjj5nn5c+ysySPr3Bmz48jpU+IACZPpKwmT52Ip0+WpSgPvdmpT5LEZs+92alPnarrT4vHbE+E36yPszesz6wULc+PinHPmk6yT6U07w+zHjGPgYe0D7pj9M+94nIPr9+0T7pj9M+Bh7QPj+y1z4GDc4+P7LXPk1G3z54V+E+adTbPlza5j5c2uY+XNrmPvib6T7OJPo+I77tPk7P7z7AkPI+P0zqPs4T+D5A1fo+KCwAP2vm/D7OJPo+JEf+Ps4T+D5A1fo+S4QAP/k1/D7dp/8++TX8PvadAz8FIQk/fV8GPyGvBT9oTgQ/fV8GPxJoBz8FIQk/ofMNPzB/FD9aVA8/71wQP+HZCj9omw0/qL0RP6i9ET/p3xU/8KkZP4wvFT/2JhQ/zVEZP/CpGT/wqRk/zVEZP5p2Ez9MWho/W90fP+loJj+pRiI/PRMcP3DuIT+MfB4/BfciP3DuIT/NniI/fjUgP2hxJz/4ryQ/YqcjP2KnIz9UYCU/WyopPzfSKD9MliE/RRknP5v/Iz+bTC0/P5wsPz+cLD+NBS8/TOMqPzcfMj/4/C0/jQUvP3F3Mj//Ajk/cXcyP8aqOD/Gqjg/1PE2P/G7Oj8bkTU//wI5P/8COT/wfzM/B808Pz8lPT/U8TY/vy0+P1U2Pz8NSjc/Tmw7P/G7Oj+Njj8/vy0+P0bvQD+GEUU/KmFEP/9PQj+in0E/TrlEP1sAQz+N20g/lVhDPxvePj+in0E/6j5AP2qDSD9GPEo/DZdAP065RD//T0I/8QhEP+PBRT/Vekc/FZ1LP1sAQz+47Eo/3PdBP065RD95ykY/48FFP3nKRj+47Eo/RjxKPxWdSz9GPEo/HGdPP8C2Tj9HeFE/gJRKP0Y8Sj+N20g/q6VMP7jsSj/O/Uw/P3JGPyPkST8VnUs/RjxKPyMxUz9jBk4/DiBRP7FvUD+47Eo/HGdPP9XHUD8HVk0/pHVbPys3Xj/Phl0/8t5dP9ZQYT9rWWI/a6ZrPzIBYj9dEmQ/nPhgP1UMWT+re2Y/+uRoP8dWbD8IeXA/OVR2P8nffD+WBHc/M9d7Px3GeT/BFXk/ZGV4P1ceej9QoX8/c/l/P8nffD/do3U/ZGV4PxB/ez+WBHc/pEt1P486cz85B20/ee1pP4+xYj8qrk0/YwZOP4YRRT8b3j4/DDgWP/YmFD+/9t8+v23PPkw0vj7b+8s+Wi6zPqFWwj4Tj7Q+kkqsPmcoqD4E6Ys+6Q5XPiOSXD4gbho+ysIFPspbvj2TL+I9WjXtPR/TrT0dBZU9AUSSPau6gT1X/4k9WO1yPXE0Cj2bKnQ8U13+PKVK3Ty8GYU8F7fROBc/xzxABTI8fxNIPHE0Cj2R52c9FE/oPMVFKz0fwYw9q7qBPZELoD0h5c49PrjyPXey5z2Spgw+5sgQPnYHDj6urBc+yksWPgRGCz7o2jE+BHowPpTKTj4hoj8+BQNBPiIrUD5aR0k+6IVGPnbEQz7ohUY+6IVGPlpHST6U7FI+IitQPlziej5cN2Y+QEN8PgbAdj6U/nM+BsB2PiB3iD6xe24+IHeIPrIEfz6utYU+\",\"dtype\":\"float32\",\"shape\":[300]}},\"selected\":{\"id\":\"20089\",\"type\":\"Selection\"},\"selection_policy\":{\"id\":\"20088\",\"type\":\"UnionRenderers\"}},\"id\":\"19670\",\"type\":\"ColumnDataSource\"},{\"attributes\":{},\"id\":\"19657\",\"type\":\"PanTool\"},{\"attributes\":{},\"id\":\"20092\",\"type\":\"UnionRenderers\"},{\"attributes\":{},\"id\":\"19662\",\"type\":\"HelpTool\"},{\"attributes\":{\"dimension\":1,\"ticker\":{\"id\":\"19653\",\"type\":\"BasicTicker\"}},\"id\":\"19656\",\"type\":\"Grid\"},{\"attributes\":{\"data_source\":{\"id\":\"19680\",\"type\":\"ColumnDataSource\"},\"glyph\":{\"id\":\"19681\",\"type\":\"MultiLine\"},\"hover_glyph\":null,\"muted_glyph\":null,\"nonselection_glyph\":{\"id\":\"19682\",\"type\":\"MultiLine\"},\"selection_glyph\":null,\"view\":{\"id\":\"19684\",\"type\":\"CDSView\"}},\"id\":\"19683\",\"type\":\"GlyphRenderer\"},{\"attributes\":{},\"id\":\"19660\",\"type\":\"SaveTool\"},{\"attributes\":{\"fill_alpha\":{\"value\":0.1},\"fill_color\":{\"value\":\"#1f77b4\"},\"line_alpha\":{\"value\":0.1},\"line_color\":{\"value\":\"#1f77b4\"},\"size\":{\"units\":\"screen\",\"value\":5},\"x\":{\"field\":\"x\"},\"y\":{\"field\":\"y\"}},\"id\":\"19672\",\"type\":\"Circle\"},{\"attributes\":{\"source\":{\"id\":\"19680\",\"type\":\"ColumnDataSource\"}},\"id\":\"19684\",\"type\":\"CDSView\"},{\"attributes\":{\"fill_color\":{\"value\":\"black\"},\"line_alpha\":{\"value\":0},\"size\":{\"units\":\"screen\",\"value\":5},\"x\":{\"field\":\"x\"},\"y\":{\"field\":\"y\"}},\"id\":\"19671\",\"type\":\"Circle\"}],\"root_ids\":[\"19636\"]},\"title\":\"Bokeh Application\",\"version\":\"1.2.0\"}};\n",
       "  var render_items = [{\"docid\":\"0a5e5990-8cc0-4b9d-846c-b4c87de10bd2\",\"notebook_comms_target\":\"20095\",\"roots\":{\"19636\":\"dabb0270-ebca-4352-b88b-4931c6310d39\"}}];\n",
       "  root.Bokeh.embed.embed_items_notebook(docs_json, render_items);\n",
       "\n",
       "  }\n",
       "  if (root.Bokeh !== undefined) {\n",
       "    embed_document(root);\n",
       "  } else {\n",
       "    var attempts = 0;\n",
       "    var timer = setInterval(function(root) {\n",
       "      if (root.Bokeh !== undefined) {\n",
       "        embed_document(root);\n",
       "        clearInterval(timer);\n",
       "      }\n",
       "      attempts++;\n",
       "      if (attempts > 100) {\n",
       "        console.log(\"Bokeh: ERROR: Unable to run BokehJS code because BokehJS library is missing\");\n",
       "        clearInterval(timer);\n",
       "      }\n",
       "    }, 10, root)\n",
       "  }\n",
       "})(window);"
      ],
      "application/vnd.bokehjs_exec.v0+json": ""
     },
     "metadata": {
      "application/vnd.bokehjs_exec.v0+json": {
       "id": "19636"
      }
     },
     "output_type": "display_data"
    },
    {
     "data": {
      "application/vnd.jupyter.widget-view+json": {
       "model_id": "c6732dd8c4474e87943ec4f71df0f203",
       "version_major": 2,
       "version_minor": 0
      },
      "text/plain": [
       "interactive(children=(Dropdown(description='label', index=6, options=('ACEP', 'CEP', 'DSCT', 'ECL', 'ELL', 'LP…"
      ]
     },
     "metadata": {},
     "output_type": "display_data"
    },
    {
     "data": {
      "text/plain": [
       "<function __main__.update(label=array(['RRLYR'], dtype=object), z0=-1.186738, z1=-0.00039400172, z2=0.00015353863, z3=-0.01102455, z4=0.22371186, z5=0.0010238732, period=0.5120501)>"
      ]
     },
     "execution_count": 269,
     "metadata": {},
     "output_type": "execute_result"
    }
   ],
   "source": [
    "show(p, notebook_handle=True)\n",
    "if type(config['beta_vae']) == str:\n",
    "    lim = 5\n",
    "    \n",
    "else:\n",
    "    lim = 10\n",
    "interact(update, label=dataset.label_onehot_enc.categories_[0].tolist(), \n",
    "         z0=(-lim,lim,.01), z1=(-lim,lim,.01), z2=(-lim,lim,.01), z3=(-lim,lim,.01),\n",
    "         z4=(-lim,lim,.01), z5=(-lim,lim,.01), period=(0.01, 20, 0.01), teff=(3000, 9000, 10))"
   ]
  },
  {
   "cell_type": "code",
   "execution_count": null,
   "metadata": {},
   "outputs": [],
   "source": []
  },
  {
   "cell_type": "code",
   "execution_count": null,
   "metadata": {},
   "outputs": [],
   "source": []
  }
 ],
 "metadata": {
  "kernelspec": {
   "display_name": "Python [conda env:pytorch]",
   "language": "python",
   "name": "conda-env-pytorch-py"
  },
  "language_info": {
   "codemirror_mode": {
    "name": "ipython",
    "version": 3
   },
   "file_extension": ".py",
   "mimetype": "text/x-python",
   "name": "python",
   "nbconvert_exporter": "python",
   "pygments_lexer": "ipython3",
   "version": "3.6.8"
  }
 },
 "nbformat": 4,
 "nbformat_minor": 4
}
